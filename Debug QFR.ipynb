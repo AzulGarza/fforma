{
 "cells": [
  {
   "cell_type": "code",
   "execution_count": 1,
   "metadata": {},
   "outputs": [
    {
     "name": "stderr",
     "output_type": "stream",
     "text": [
      "/Users/kin_gutierrez/opt/anaconda3/envs/fforma/lib/python3.6/site-packages/dask/config.py:168: YAMLLoadWarning: calling yaml.load() without Loader=... is deprecated, as the default Loader is unsafe. Please read https://msg.pyyaml.org/load for full details.\n",
      "  data = yaml.load(f.read()) or {}\n",
      "/Users/kin_gutierrez/opt/anaconda3/envs/fforma/lib/python3.6/site-packages/dask/dataframe/utils.py:13: FutureWarning: pandas.util.testing is deprecated. Use the functions in the public API at pandas.testing instead.\n",
      "  import pandas.util.testing as tm\n"
     ]
    }
   ],
   "source": [
    "from src.fforma import FFORMA\n",
    "from sklearn.decomposition import PCA\n",
    "from src.meta_learner import MetaLearnerNN\n",
    "from src.meta_results_r_data import prepare_fforma_data\n",
    "\n",
    "from ESRNN.m4_data import prepare_m4_data, seas_dict\n",
    "from ESRNN.utils_evaluation import evaluate_prediction_owa\n",
    "\n",
    "from src.benchmarks import FactorQuantileRegressionAveraging\n",
    "\n",
    "import pandas as pd\n",
    "import itertools\n",
    "import numpy as np\n",
    "import matplotlib.pyplot as plt\n",
    "import pickle\n",
    "\n",
    "from statsmodels.regression.quantile_regression import QuantReg\n",
    "\n",
    "from src.metrics.metrics import smape, mape\n",
    "from src.benchmarks import evaluate_panel\n",
    "\n",
    "from src.base_models import FQRA, QRAL1"
   ]
  },
  {
   "cell_type": "code",
   "execution_count": 2,
   "metadata": {},
   "outputs": [
    {
     "name": "stdout",
     "output_type": "stream",
     "text": [
      "% of missing values, train set\n",
      "x_acf10               7.551487\n",
      "diff1_acf1            7.551487\n",
      "diff1_acf10           7.551487\n",
      "diff2_acf1            7.551487\n",
      "diff2_acf10           8.543097\n",
      "seas_acf1            39.511823\n",
      "arch_lm               9.687262\n",
      "garch_acf             0.076278\n",
      "arch_r2              13.196034\n",
      "garch_r2             13.348589\n",
      "nonlinearity          1.144165\n",
      "x_pacf5               1.144165\n",
      "diff1x_pacf5          1.830664\n",
      "diff2x_pacf5          2.212052\n",
      "seas_pacf            39.511823\n",
      "e_acf10               7.551487\n",
      "seasonal_strength    39.511823\n",
      "peak                 39.511823\n",
      "trough               39.511823\n",
      "hw_alpha             39.511823\n",
      "hw_beta              39.511823\n",
      "hw_gamma             39.511823\n",
      "dtype: float64\n",
      "\n",
      "\n",
      "% of missing values, test set\n",
      "x_acf10               1.830664\n",
      "diff1_acf1            1.830664\n",
      "diff1_acf10           2.212052\n",
      "diff2_acf1            2.212052\n",
      "diff2_acf10           7.551487\n",
      "seas_acf1            39.511823\n",
      "arch_lm               7.551487\n",
      "arch_r2               7.551487\n",
      "garch_r2              7.551487\n",
      "diff2x_pacf5          1.144165\n",
      "seas_pacf            39.511823\n",
      "e_acf10               1.830664\n",
      "seasonal_strength    39.511823\n",
      "peak                 39.511823\n",
      "trough               39.511823\n",
      "hw_alpha             39.511823\n",
      "hw_beta              39.511823\n",
      "hw_gamma             39.511823\n",
      "dtype: float64\n",
      "\n",
      "\n",
      "Replacing with zeros...\n"
     ]
    }
   ],
   "source": [
    "data = prepare_fforma_data(directory='data', dataset_name=None, kind='TOURISM')\n",
    "#dataset_name=None for all data"
   ]
  },
  {
   "cell_type": "code",
   "execution_count": 3,
   "metadata": {},
   "outputs": [],
   "source": [
    "X_train = data['preds_train_df']\n",
    "y_train = data['y_train_df']\n",
    "X_test = data['preds_test_df']\n",
    "y_test = data['y_test_df']"
   ]
  },
  {
   "cell_type": "code",
   "execution_count": 4,
   "metadata": {},
   "outputs": [
    {
     "data": {
      "text/plain": [
       "unique_id            object\n",
       "ds                    int64\n",
       "auto_arima_forec    float64\n",
       "ets_forec           float64\n",
       "naive_forec         float64\n",
       "nnetar_forec        float64\n",
       "rw_drift_forec      float64\n",
       "snaive_forec        float64\n",
       "stlm_ar_forec       float64\n",
       "tbats_forec         float64\n",
       "theta_forec         float64\n",
       "dtype: object"
      ]
     },
     "execution_count": 4,
     "metadata": {},
     "output_type": "execute_result"
    }
   ],
   "source": [
    "X_train.dtypes"
   ]
  },
  {
   "cell_type": "markdown",
   "metadata": {},
   "source": [
    "# PCA for residuals"
   ]
  },
  {
   "cell_type": "code",
   "execution_count": 5,
   "metadata": {},
   "outputs": [
    {
     "name": "stdout",
     "output_type": "stream",
     "text": [
      "X_train_mean.shape (14272, 1)\n",
      "X_train_pca.shape (14272, 9)\n",
      "X_test_mean.shape (14272, 1)\n",
      "X_test_pca.shape (14272, 9)\n"
     ]
    }
   ],
   "source": [
    "unique_ids = X_train['unique_id'].unique()\n",
    "\n",
    "X_train_pca = X_train.drop(columns=['unique_id','ds'])#.values\n",
    "X_test_pca = X_train.drop(columns=['unique_id','ds'])#.values\n",
    "\n",
    "def demean_x(X_df):\n",
    "    x_mean_list = []\n",
    "    x_demean_list = []\n",
    "    unique_ids = X_df['unique_id'].unique()\n",
    "    for u_id in unique_ids:\n",
    "        x_id = X_df[X_df['unique_id']==u_id].drop(columns=['unique_id','ds']).values\n",
    "        x_mean = np.expand_dims(np.mean(x_id, axis=1), axis=1)\n",
    "        x_id_demean = x_id - x_mean\n",
    "        x_demean_list.append(x_id_demean)\n",
    "        x_mean_list.append(x_mean)\n",
    "    \n",
    "    x_mean = np.vstack(x_mean_list)\n",
    "    x_demean = np.vstack(x_demean_list)\n",
    "    return x_mean, x_demean\n",
    "\n",
    "X_train_mean, X_train_pca = demean_x(X_train)\n",
    "X_test_mean, X_test_pca = demean_x(X_test)\n",
    "\n",
    "print(\"X_train_mean.shape\", X_train_mean.shape)\n",
    "print(\"X_train_pca.shape\", X_train_pca.shape)\n",
    "print(\"X_test_mean.shape\", X_test_mean.shape)\n",
    "print(\"X_test_pca.shape\", X_test_pca.shape)\n",
    "\n",
    "pca_model = PCA(n_components=1).fit(X_train_pca)\n",
    "X_train_transformed = pca_model.transform(X_train_pca)\n",
    "X_test_transformed = pca_model.transform(X_test_pca)"
   ]
  },
  {
   "cell_type": "markdown",
   "metadata": {},
   "source": [
    "# Quantile Averaging"
   ]
  },
  {
   "cell_type": "code",
   "execution_count": 6,
   "metadata": {},
   "outputs": [
    {
     "data": {
      "text/plain": [
       "25.542398384043352"
      ]
     },
     "execution_count": 6,
     "metadata": {},
     "output_type": "execute_result"
    }
   ],
   "source": [
    "smape_list = []\n",
    "y_hat_list = []\n",
    "u_id_list = []\n",
    "ds_list = []\n",
    "for u_id in unique_ids:\n",
    "    x_train_transformed_id = X_train_transformed[(X_train['unique_id']==u_id)]\n",
    "    x_train_mean_id = X_train_mean[(X_train['unique_id']==u_id)]\n",
    "    \n",
    "    x_test_transformed_id = X_test_transformed[(X_test['unique_id']==u_id)]\n",
    "    x_test_mean_id = X_test_mean[(X_test['unique_id']==u_id)]\n",
    "    \n",
    "    y_train_id = y_train[y_train['unique_id']==u_id]['y'].values\n",
    "    y_test_id = y_test[y_test['unique_id']==u_id]['y'].values\n",
    "\n",
    "#     X_tr = np.hstack([np.ones(shape=(len(x_train_mean_id), 1)),\n",
    "#                      x_train_transformed_id, x_train_mean_id])\n",
    "    X_tr = np.hstack([x_train_transformed_id, x_train_mean_id])\n",
    "    reg = QRAL1(tau=0.4, lambd=0.2).fit(X_tr, y_train_id)\n",
    "\n",
    "#     X_ts = np.hstack([np.ones(shape=(len(x_train_mean_id), 1)),\n",
    "#                      x_test_transformed_id, x_test_mean_id])\n",
    "    X_ts = np.hstack([x_test_transformed_id, x_test_mean_id])\n",
    "    y_hat = reg.predict(X_ts)\n",
    "\n",
    "    my_smape=200*np.mean(np.abs(y_hat-y_test_id)/(np.abs(y_hat)+np.abs(y_test_id)))\n",
    "    smape_list.append(my_smape)\n",
    "    y_hat_list += y_hat.tolist()\n",
    "    u_id_list += [u_id]*len(y_hat)\n",
    "    ds_list += list(range(len(y_hat)))\n",
    "    \n",
    "np.mean(smape_list)"
   ]
  },
  {
   "cell_type": "code",
   "execution_count": null,
   "metadata": {},
   "outputs": [],
   "source": []
  },
  {
   "cell_type": "code",
   "execution_count": null,
   "metadata": {},
   "outputs": [],
   "source": []
  }
 ],
 "metadata": {
  "kernelspec": {
   "display_name": "fforma",
   "language": "python",
   "name": "fforma"
  },
  "language_info": {
   "codemirror_mode": {
    "name": "ipython",
    "version": 3
   },
   "file_extension": ".py",
   "mimetype": "text/x-python",
   "name": "python",
   "nbconvert_exporter": "python",
   "pygments_lexer": "ipython3",
   "version": "3.6.10"
  }
 },
 "nbformat": 4,
 "nbformat_minor": 4
}
