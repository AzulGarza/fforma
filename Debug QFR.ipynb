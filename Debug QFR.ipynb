{
 "cells": [
  {
   "cell_type": "code",
   "execution_count": 40,
   "metadata": {},
   "outputs": [],
   "source": [
    "from src.fforma import FFORMA\n",
    "from sklearn.decomposition import PCA\n",
    "from src.meta_learner import MetaLearnerNN\n",
    "from src.meta_results_r_data import prepare_fforma_data\n",
    "\n",
    "from ESRNN.m4_data import prepare_m4_data, seas_dict\n",
    "from ESRNN.utils_evaluation import evaluate_prediction_owa\n",
    "\n",
    "from src.utils import (\n",
    "    evaluate_forecasts,\n",
    "    freqs\n",
    ")\n",
    "from src.benchmarks import FactorQuantileRegressionAveraging\n",
    "\n",
    "import pandas as pd\n",
    "import itertools\n",
    "import numpy as np\n",
    "import matplotlib.pyplot as plt\n",
    "import pickle\n",
    "\n",
    "from statsmodels.regression.quantile_regression import QuantReg\n",
    "\n",
    "from src.metrics.metrics import smape, mape\n",
    "from src.benchmarks import evaluate_panel"
   ]
  },
  {
   "cell_type": "code",
   "execution_count": 2,
   "metadata": {},
   "outputs": [
    {
     "name": "stdout",
     "output_type": "stream",
     "text": [
      "% of missing values, train set\n",
      "x_acf10               7.551487\n",
      "diff1_acf1            7.551487\n",
      "diff1_acf10           7.551487\n",
      "diff2_acf1            7.551487\n",
      "diff2_acf10           8.543097\n",
      "seas_acf1            39.511823\n",
      "arch_lm               9.687262\n",
      "garch_acf             0.076278\n",
      "arch_r2              13.196034\n",
      "garch_r2             13.348589\n",
      "nonlinearity          1.144165\n",
      "x_pacf5               1.144165\n",
      "diff1x_pacf5          1.754386\n",
      "diff2x_pacf5          2.059497\n",
      "seas_pacf            39.511823\n",
      "e_acf10               7.551487\n",
      "seasonal_strength    39.511823\n",
      "peak                 39.511823\n",
      "trough               39.511823\n",
      "hw_alpha             39.511823\n",
      "hw_beta              39.511823\n",
      "hw_gamma             39.511823\n",
      "dtype: float64\n",
      "\n",
      "\n",
      "% of missing values, test set\n",
      "x_acf10               1.754386\n",
      "diff1_acf1            1.754386\n",
      "diff1_acf10           2.059497\n",
      "diff2_acf1            2.059497\n",
      "diff2_acf10           2.212052\n",
      "seas_acf1            39.511823\n",
      "arch_lm               7.551487\n",
      "arch_r2               7.551487\n",
      "garch_r2              7.551487\n",
      "diff2x_pacf5          1.144165\n",
      "seas_pacf            39.511823\n",
      "e_acf10               1.754386\n",
      "seasonal_strength    39.511823\n",
      "peak                 39.511823\n",
      "trough               39.511823\n",
      "hw_alpha             39.511823\n",
      "hw_beta              39.511823\n",
      "hw_gamma             39.511823\n",
      "dtype: float64\n",
      "\n",
      "\n",
      "Replacing with zeros...\n"
     ]
    }
   ],
   "source": [
    "data = prepare_fforma_data(directory='data', dataset_name=None, kind='TOURISM')\n",
    "#dataset_name=None for all data"
   ]
  },
  {
   "cell_type": "code",
   "execution_count": 3,
   "metadata": {},
   "outputs": [],
   "source": [
    "X_train = data['preds_train_df']\n",
    "y_train = data['y_train_df']\n",
    "X_test = data['preds_test_df']\n",
    "y_test = data['y_test_df']"
   ]
  },
  {
   "cell_type": "code",
   "execution_count": 39,
   "metadata": {},
   "outputs": [
    {
     "data": {
      "text/plain": [
       "33.242674523229795"
      ]
     },
     "execution_count": 39,
     "metadata": {},
     "output_type": "execute_result"
    }
   ],
   "source": [
    "unique_ids = X_train['unique_id'].unique()\n",
    "smape_list = []\n",
    "y_hat_list = []\n",
    "u_id_list = []\n",
    "ds_list = []\n",
    "for u_id in unique_ids:\n",
    "    x_id = X_train[X_train['unique_id']==u_id].drop(columns=['unique_id','ds']).values\n",
    "    x_test = X_test[X_test['unique_id']==u_id].drop(columns=['unique_id','ds']).values\n",
    "    y_id = y_train[y_train['unique_id']==u_id]['y'].values\n",
    "    y_test_id = y_test[y_test['unique_id']==u_id]['y'].values\n",
    "\n",
    "    pca_model = PCA(n_components=1).fit(x_id)\n",
    "    X = pca_model.transform(x_id)\n",
    "    X = np.hstack([X, np.ones((len(X),1))])\n",
    "\n",
    "    reg = QuantReg(y_id, X).fit(0.5)\n",
    "\n",
    "    x_test_pca = pca_model.transform(x_test)\n",
    "    x_test_pca = np.hstack([x_test_pca, np.ones((len(x_test_pca),1))])\n",
    "    y_hat = reg.predict(x_test_pca)\n",
    "\n",
    "    my_smape=200*np.mean(np.abs(y_hat-y_test_id)/(np.abs(y_hat)+np.abs(y_test_id)))\n",
    "    smape_list.append(my_smape)\n",
    "    y_hat_list += y_hat.tolist()\n",
    "    u_id_list += [u_id]*len(y_hat)\n",
    "    ds_list += list(range(len(y_hat)))\n",
    "    \n",
    "df_hat = pd.DataFrame(list(zip(u_id_list, ds_list, y_hat_list)), \n",
    "               columns =['unique_id', 'ds', 'y_hat']) \n",
    "    \n",
    "np.mean(smape_list)"
   ]
  },
  {
   "cell_type": "code",
   "execution_count": 44,
   "metadata": {},
   "outputs": [
    {
     "name": "stdout",
     "output_type": "stream",
     "text": [
      "[########################################] | 100% Completed |  0.3s\n"
     ]
    },
    {
     "data": {
      "text/plain": [
       "34.83226943604919"
      ]
     },
     "execution_count": 44,
     "metadata": {},
     "output_type": "execute_result"
    }
   ],
   "source": [
    "evaluate_panel(y_test, df_hat, smape)"
   ]
  },
  {
   "cell_type": "code",
   "execution_count": 5,
   "metadata": {},
   "outputs": [],
   "source": [
    "fqra = FactorQuantileRegressionAveraging(n_components=1, tau=0.5)"
   ]
  },
  {
   "cell_type": "code",
   "execution_count": 6,
   "metadata": {},
   "outputs": [
    {
     "name": "stdout",
     "output_type": "stream",
     "text": [
      "[########################################] | 100% Completed | 50.5s\n",
      "[########################################] | 100% Completed | 25.1s\n",
      "[########################################] | 100% Completed |  0.4s\n",
      "[########################################] | 100% Completed |  0.5s\n"
     ]
    },
    {
     "data": {
      "text/plain": [
       "<src.benchmarks.FactorQuantileRegressionAveraging at 0x7fc7d057cc18>"
      ]
     },
     "execution_count": 6,
     "metadata": {},
     "output_type": "execute_result"
    }
   ],
   "source": [
    "fqra.fit(X_train, y_train, X_test, y_test)"
   ]
  },
  {
   "cell_type": "code",
   "execution_count": 9,
   "metadata": {},
   "outputs": [
    {
     "data": {
      "text/plain": [
       "33.4804924701254"
      ]
     },
     "execution_count": 9,
     "metadata": {},
     "output_type": "execute_result"
    }
   ],
   "source": [
    "fqra.test_min_smape"
   ]
  },
  {
   "cell_type": "code",
   "execution_count": null,
   "metadata": {},
   "outputs": [],
   "source": []
  }
 ],
 "metadata": {
  "kernelspec": {
   "display_name": "fforma_fed",
   "language": "python",
   "name": "fforma_fed"
  },
  "language_info": {
   "codemirror_mode": {
    "name": "ipython",
    "version": 3
   },
   "file_extension": ".py",
   "mimetype": "text/x-python",
   "name": "python",
   "nbconvert_exporter": "python",
   "pygments_lexer": "ipython3",
   "version": "3.6.10"
  }
 },
 "nbformat": 4,
 "nbformat_minor": 4
}
