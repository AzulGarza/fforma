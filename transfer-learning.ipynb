{
 "cells": [
  {
   "cell_type": "code",
   "execution_count": 1,
   "metadata": {},
   "outputs": [],
   "source": [
    "from fforma import *\n",
    "import pandas as pd\n",
    "from fforma.train_models import trainBasicModels\n",
    "import random\n",
    "import matplotlib.pyplot as plt"
   ]
  },
  {
   "cell_type": "code",
   "execution_count": 2,
   "metadata": {},
   "outputs": [],
   "source": [
    "def get_data(data = 'M4', freq = 'Monthly', frcy=12, val_periods=18, basic_models = [Naive(), SeasonalNaive(), RandomWalkDrift()],\n",
    "               sample_sizes = [.1, .2, .3, .4, .5]):\n",
    "    # Reding complete data\n",
    "    if data == 'M4':\n",
    "        data = pd.read_csv(f'data/data_m4/{freq}-train.csv')\n",
    "        data_test = pd.read_csv(f'data/data_m4/{freq}-test.csv')\n",
    "\n",
    "        # Train and test set\n",
    "        ts_list_train = [ts[1:].dropna().values for idx, ts in data.iterrows()]\n",
    "        ts_list_test = [ts[1:].dropna().values for idx, ts in data_test.iterrows()]\n",
    "    else:\n",
    "        freq_dict = {\n",
    "            'Monthly': 'M'\n",
    "        }\n",
    "        \n",
    "        freq_m3 = freq_dict[freq]\n",
    "        data = pd.read_csv(f'data/data_m3/dataM3.csv').query('freq==@freq_m3')\n",
    "        data_test = data.query('type==\"test\"')\n",
    "        data = data.query('type==\"train\"')\n",
    "\n",
    "        # Train and test set\n",
    "        ts_list_train = [df['value'].values for idx, df in data.groupby('id')]\n",
    "        ts_list_test = [df['value'].values for idx, df in data_test.groupby('id')]\n",
    "        \n",
    "    #Test periods\n",
    "    test_periods = len(ts_list_test[0])\n",
    "    \n",
    "    # Validation set\n",
    "    ts_train_for_val = [ts[:-val_periods] for ts in ts_list_train] \n",
    "    ts_val_list = [ts[-val_periods:] for ts in ts_list_train]\n",
    "    \n",
    "    # Prediction for validation set and train set\n",
    "    ts_hat_val_list = trainBasicModels().train(basic_models, ts_train_for_val, frcy).predict(val_periods)\n",
    "    ts_hat_list = trainBasicModels().train(basic_models, ts_list_train, frcy).predict(test_periods)\n",
    "    \n",
    "    # Subsets of data\n",
    "    n_ts = len(ts_list_train)\n",
    "    #sample_sizes.reverse()\n",
    "    k_samples = [round(n_ts*ss) for ss in sample_sizes]\n",
    "    #print(k_samples)\n",
    "    seed = 202002020\n",
    "    \n",
    "    \n",
    "    \n",
    "    indexes_sample = {}\n",
    "    \n",
    "    for idx, (ss, k_sample) in enumerate(zip(sample_sizes, k_samples)):\n",
    "        #if idx == 0:\n",
    "        random.seed(seed+idx)\n",
    "        indexes_sample[str(ss)] = random.sample(range(n_ts), k=k_sample)\n",
    "        #    bef_sample = indexes_sample[str(ss)]\n",
    "            #print(bef_sample)\n",
    "        #else:\n",
    "        #    indexes_sample[str(ss)] = random.sample(bef_sample, k=k_sample)\n",
    "        #    bef_sample = indexes_sample[str(ss)]\n",
    "            #print(bef_sample)\n",
    "    \n",
    "    #sample_sizes.reverse()\n",
    "    samples = {}\n",
    "    samples['complete'] = {\n",
    "        'ts': ts_list_train, 'ts_test': ts_list_test, 'ts_hat_test': ts_hat_list,\n",
    "        'ts_val': ts_val_list, 'ts_hat_val': ts_hat_val_list\n",
    "    }\n",
    "    #print(len(ts_hat_list))\n",
    "    for sample in sample_sizes:\n",
    "        idxs = indexes_sample[str(sample)]\n",
    "        #print(idxs)\n",
    "        samples[f'sample_{sample}'] = {\n",
    "            'ts': [ts_list_train[idx] for idx in idxs], \n",
    "            'ts_test': [ts_list_test[idx] for idx in idxs], \n",
    "            'ts_hat_test': [ts_hat_list[idx] for idx in idxs],\n",
    "            'ts_val': [ts_val_list[idx] for idx in idxs], \n",
    "            'ts_hat_val': [ts_hat_val_list[idx] for idx in idxs]\n",
    "        }\n",
    "        \n",
    "    return samples\n",
    "    "
   ]
  },
  {
   "cell_type": "code",
   "execution_count": 3,
   "metadata": {},
   "outputs": [],
   "source": [
    "sample_sizes = [.1, .1, .1, .1, .1]\n",
    "frcy = 12"
   ]
  },
  {
   "cell_type": "code",
   "execution_count": 4,
   "metadata": {},
   "outputs": [
    {
     "name": "stderr",
     "output_type": "stream",
     "text": [
      "100%|██████████| 48000/48000 [00:01<00:00, 41988.26it/s]\n",
      "100%|██████████| 48000/48000 [00:01<00:00, 36548.50it/s]\n",
      "100%|██████████| 48000/48000 [00:01<00:00, 47914.23it/s]\n",
      "100%|██████████| 48000/48000 [00:01<00:00, 36508.51it/s]\n"
     ]
    }
   ],
   "source": [
    "m4 = get_data(data='M4', frcy=frcy, sample_sizes=sample_sizes)"
   ]
  },
  {
   "cell_type": "code",
   "execution_count": 5,
   "metadata": {},
   "outputs": [
    {
     "name": "stderr",
     "output_type": "stream",
     "text": [
      "100%|██████████| 1428/1428 [00:00<00:00, 48179.37it/s]\n",
      "100%|██████████| 1428/1428 [00:00<00:00, 34158.57it/s]\n",
      "100%|██████████| 1428/1428 [00:00<00:00, 49930.53it/s]\n",
      "100%|██████████| 1428/1428 [00:00<00:00, 33678.77it/s]\n"
     ]
    }
   ],
   "source": [
    "m3 = get_data(data='M3', frcy=frcy, sample_sizes=sample_sizes)"
   ]
  },
  {
   "cell_type": "code",
   "execution_count": 6,
   "metadata": {},
   "outputs": [
    {
     "name": "stderr",
     "output_type": "stream",
     "text": [
      "  1%|▏         | 67/4800 [00:00<00:07, 663.05it/s]"
     ]
    },
    {
     "name": "stdout",
     "output_type": "stream",
     "text": [
      "\n",
      " \n",
      "\n",
      "========Sample 0: 0.1===========\n",
      "===========Training on M4===========\n",
      "Setting model\n",
      "Computing contribution to owa\n",
      "Training NAIVE2\n"
     ]
    },
    {
     "name": "stderr",
     "output_type": "stream",
     "text": [
      "100%|██████████| 4800/4800 [00:06<00:00, 734.31it/s]\n",
      "3753it [00:00, 18704.61it/s]"
     ]
    },
    {
     "name": "stdout",
     "output_type": "stream",
     "text": [
      "Calculating errors\n"
     ]
    },
    {
     "name": "stderr",
     "output_type": "stream",
     "text": [
      "4800it [00:00, 18632.35it/s]\n",
      "4800it [00:00, 7470.01it/s]\n",
      "4800it [00:00, 51628.56it/s]\n",
      "2015it [00:00, 20142.48it/s]"
     ]
    },
    {
     "name": "stdout",
     "output_type": "stream",
     "text": [
      "Naive 2 errors\n"
     ]
    },
    {
     "name": "stderr",
     "output_type": "stream",
     "text": [
      "4800it [00:00, 20355.78it/s]\n"
     ]
    },
    {
     "name": "stdout",
     "output_type": "stream",
     "text": [
      "Computing features\n"
     ]
    },
    {
     "name": "stderr",
     "output_type": "stream",
     "text": [
      "/home/fede/.local/lib/python3.6/site-packages/statsmodels/regression/linear_model.py:1405: RuntimeWarning: invalid value encountered in sqrt\n",
      "  return rho, np.sqrt(sigmasq)\n",
      "/home/fede/.local/lib/python3.6/site-packages/statsmodels/regression/linear_model.py:1405: RuntimeWarning: invalid value encountered in sqrt\n",
      "  return rho, np.sqrt(sigmasq)\n",
      "/home/fede/.local/lib/python3.6/site-packages/statsmodels/regression/linear_model.py:1405: RuntimeWarning: invalid value encountered in sqrt\n",
      "  return rho, np.sqrt(sigmasq)\n",
      "/home/fede/.local/lib/python3.6/site-packages/statsmodels/regression/linear_model.py:1405: RuntimeWarning: invalid value encountered in sqrt\n",
      "  return rho, np.sqrt(sigmasq)\n",
      "/home/fede/.local/lib/python3.6/site-packages/statsmodels/regression/linear_model.py:1405: RuntimeWarning: invalid value encountered in sqrt\n",
      "  return rho, np.sqrt(sigmasq)\n",
      "/home/fede/.local/lib/python3.6/site-packages/statsmodels/regression/linear_model.py:1405: RuntimeWarning: invalid value encountered in sqrt\n",
      "  return rho, np.sqrt(sigmasq)\n",
      "/home/fede/.local/lib/python3.6/site-packages/statsmodels/regression/linear_model.py:1405: RuntimeWarning: invalid value encountered in sqrt\n",
      "  return rho, np.sqrt(sigmasq)\n",
      "/home/fede/.local/lib/python3.6/site-packages/statsmodels/regression/linear_model.py:1405: RuntimeWarning: invalid value encountered in sqrt\n",
      "  return rho, np.sqrt(sigmasq)\n",
      "/home/fede/.local/lib/python3.6/site-packages/statsmodels/regression/linear_model.py:1405: RuntimeWarning: invalid value encountered in sqrt\n",
      "  return rho, np.sqrt(sigmasq)\n",
      "/home/fede/.local/lib/python3.6/site-packages/statsmodels/regression/linear_model.py:1405: RuntimeWarning: invalid value encountered in sqrt\n",
      "  return rho, np.sqrt(sigmasq)\n",
      "/home/fede/.local/lib/python3.6/site-packages/statsmodels/regression/linear_model.py:1405: RuntimeWarning: invalid value encountered in sqrt\n",
      "  return rho, np.sqrt(sigmasq)\n",
      "/home/fede/.local/lib/python3.6/site-packages/statsmodels/regression/linear_model.py:1405: RuntimeWarning: invalid value encountered in sqrt\n",
      "  return rho, np.sqrt(sigmasq)\n",
      "/home/fede/.local/lib/python3.6/site-packages/statsmodels/regression/linear_model.py:1405: RuntimeWarning: invalid value encountered in sqrt\n",
      "  return rho, np.sqrt(sigmasq)\n",
      "/home/fede/.local/lib/python3.6/site-packages/statsmodels/regression/linear_model.py:1405: RuntimeWarning: invalid value encountered in sqrt\n",
      "  return rho, np.sqrt(sigmasq)\n",
      "/home/fede/.local/lib/python3.6/site-packages/statsmodels/regression/linear_model.py:1405: RuntimeWarning: invalid value encountered in sqrt\n",
      "  return rho, np.sqrt(sigmasq)\n",
      "/home/fede/.local/lib/python3.6/site-packages/statsmodels/regression/linear_model.py:1405: RuntimeWarning: invalid value encountered in sqrt\n",
      "  return rho, np.sqrt(sigmasq)\n",
      "/home/fede/.local/lib/python3.6/site-packages/statsmodels/regression/linear_model.py:1405: RuntimeWarning: invalid value encountered in sqrt\n",
      "  return rho, np.sqrt(sigmasq)\n",
      "/home/fede/.local/lib/python3.6/site-packages/statsmodels/regression/linear_model.py:1405: RuntimeWarning: invalid value encountered in sqrt\n",
      "  return rho, np.sqrt(sigmasq)\n",
      "/home/fede/.local/lib/python3.6/site-packages/statsmodels/regression/linear_model.py:1405: RuntimeWarning: invalid value encountered in sqrt\n",
      "  return rho, np.sqrt(sigmasq)\n",
      "/home/fede/.local/lib/python3.6/site-packages/statsmodels/regression/linear_model.py:1405: RuntimeWarning: invalid value encountered in sqrt\n",
      "  return rho, np.sqrt(sigmasq)\n",
      "/home/fede/.local/lib/python3.6/site-packages/statsmodels/regression/linear_model.py:1405: RuntimeWarning: invalid value encountered in sqrt\n",
      "  return rho, np.sqrt(sigmasq)\n",
      "/home/fede/.local/lib/python3.6/site-packages/statsmodels/regression/linear_model.py:1405: RuntimeWarning: invalid value encountered in sqrt\n",
      "  return rho, np.sqrt(sigmasq)\n",
      "/home/fede/.local/lib/python3.6/site-packages/statsmodels/regression/linear_model.py:1405: RuntimeWarning: invalid value encountered in sqrt\n",
      "  return rho, np.sqrt(sigmasq)\n",
      "/home/fede/.local/lib/python3.6/site-packages/statsmodels/regression/linear_model.py:1405: RuntimeWarning: invalid value encountered in sqrt\n",
      "  return rho, np.sqrt(sigmasq)\n",
      "/home/fede/.local/lib/python3.6/site-packages/statsmodels/regression/linear_model.py:1405: RuntimeWarning: invalid value encountered in sqrt\n",
      "  return rho, np.sqrt(sigmasq)\n",
      "/home/fede/.local/lib/python3.6/site-packages/statsmodels/regression/linear_model.py:1405: RuntimeWarning: invalid value encountered in sqrt\n",
      "  return rho, np.sqrt(sigmasq)\n",
      "/home/fede/.local/lib/python3.6/site-packages/statsmodels/regression/linear_model.py:1405: RuntimeWarning: invalid value encountered in sqrt\n",
      "  return rho, np.sqrt(sigmasq)\n",
      "/home/fede/.local/lib/python3.6/site-packages/statsmodels/regression/linear_model.py:1405: RuntimeWarning: invalid value encountered in sqrt\n",
      "  return rho, np.sqrt(sigmasq)\n",
      "/home/fede/.local/lib/python3.6/site-packages/statsmodels/regression/linear_model.py:1405: RuntimeWarning: invalid value encountered in sqrt\n",
      "  return rho, np.sqrt(sigmasq)\n",
      "/home/fede/.local/lib/python3.6/site-packages/statsmodels/regression/linear_model.py:1405: RuntimeWarning: invalid value encountered in sqrt\n",
      "  return rho, np.sqrt(sigmasq)\n",
      "/home/fede/.local/lib/python3.6/site-packages/statsmodels/regression/linear_model.py:1405: RuntimeWarning: invalid value encountered in sqrt\n",
      "  return rho, np.sqrt(sigmasq)\n",
      "/home/fede/.local/lib/python3.6/site-packages/statsmodels/regression/linear_model.py:1405: RuntimeWarning: invalid value encountered in sqrt\n",
      "  return rho, np.sqrt(sigmasq)\n",
      "/home/fede/.local/lib/python3.6/site-packages/statsmodels/regression/linear_model.py:1405: RuntimeWarning: invalid value encountered in sqrt\n",
      "  return rho, np.sqrt(sigmasq)\n",
      "/home/fede/.local/lib/python3.6/site-packages/statsmodels/regression/linear_model.py:1405: RuntimeWarning: invalid value encountered in sqrt\n",
      "  return rho, np.sqrt(sigmasq)\n"
     ]
    },
    {
     "name": "stdout",
     "output_type": "stream",
     "text": [
      "100%|██████████| 100/100 [15:33<00:00,  9.34s/trial, best loss: 1066.4159781351725]\n"
     ]
    },
    {
     "name": "stderr",
     "output_type": "stream",
     "text": [
      " 41%|████▏     | 59/143 [00:00<00:00, 582.41it/s]"
     ]
    },
    {
     "name": "stdout",
     "output_type": "stream",
     "text": [
      "===========Training on M3===========\n",
      "Setting model\n",
      "Computing contribution to owa\n",
      "Training NAIVE2\n"
     ]
    },
    {
     "name": "stderr",
     "output_type": "stream",
     "text": [
      "100%|██████████| 143/143 [00:00<00:00, 606.64it/s]\n",
      "143it [00:00, 22767.44it/s]\n",
      "143it [00:00, 8478.37it/s]\n",
      "143it [00:00, 59882.73it/s]\n",
      "143it [00:00, 24416.26it/s]\n"
     ]
    },
    {
     "name": "stdout",
     "output_type": "stream",
     "text": [
      "Calculating errors\n",
      "Naive 2 errors\n",
      "Computing features\n",
      "100%|██████████| 100/100 [00:20<00:00,  4.81trial/s, best loss: 29.368274525035794]\n",
      "===========Predicting with M4===========\n"
     ]
    },
    {
     "name": "stderr",
     "output_type": "stream",
     "text": [
      "  4%|▍         | 64/1428 [00:00<00:02, 633.75it/s]"
     ]
    },
    {
     "name": "stdout",
     "output_type": "stream",
     "text": [
      "Training NAIVE2\n"
     ]
    },
    {
     "name": "stderr",
     "output_type": "stream",
     "text": [
      "100%|██████████| 1428/1428 [00:02<00:00, 610.88it/s]\n",
      "1428it [00:00, 66754.34it/s]\n",
      "1428it [00:00, 28459.60it/s]\n",
      "1428it [00:00, 83125.84it/s]\n",
      "1428it [00:00, 31525.33it/s]\n"
     ]
    },
    {
     "name": "stdout",
     "output_type": "stream",
     "text": [
      "Calculating errors\n",
      "Naive 2 errors\n",
      "===========Predicting with M3===========\n"
     ]
    },
    {
     "name": "stderr",
     "output_type": "stream",
     "text": [
      "  9%|▉         | 126/1428 [00:00<00:02, 627.95it/s]"
     ]
    },
    {
     "name": "stdout",
     "output_type": "stream",
     "text": [
      "Training NAIVE2\n"
     ]
    },
    {
     "name": "stderr",
     "output_type": "stream",
     "text": [
      "100%|██████████| 1428/1428 [00:02<00:00, 637.61it/s]\n",
      "1428it [00:00, 68366.66it/s]\n",
      "1428it [00:00, 29057.16it/s]\n",
      "1428it [00:00, 77094.43it/s]\n",
      "1428it [00:00, 27457.23it/s]\n",
      "  0%|          | 0/4800 [00:00<?, ?it/s]"
     ]
    },
    {
     "name": "stdout",
     "output_type": "stream",
     "text": [
      "Calculating errors\n",
      "Naive 2 errors\n",
      "Errors:\n",
      "   idx  sample  owa_m3_m4  owa_m3_m3\n",
      "0    0     0.1   0.902432   0.915863\n",
      "\n",
      " \n",
      "\n",
      "========Sample 1: 0.1===========\n",
      "===========Training on M4===========\n",
      "Setting model\n",
      "Computing contribution to owa\n",
      "Training NAIVE2\n"
     ]
    },
    {
     "name": "stderr",
     "output_type": "stream",
     "text": [
      "100%|██████████| 4800/4800 [00:06<00:00, 698.30it/s]\n",
      "1717it [00:00, 17167.44it/s]"
     ]
    },
    {
     "name": "stdout",
     "output_type": "stream",
     "text": [
      "Calculating errors\n"
     ]
    },
    {
     "name": "stderr",
     "output_type": "stream",
     "text": [
      "4800it [00:00, 17714.49it/s]\n",
      "4800it [00:00, 6766.49it/s]\n",
      "4800it [00:00, 52669.52it/s]\n",
      "1964it [00:00, 19630.24it/s]"
     ]
    },
    {
     "name": "stdout",
     "output_type": "stream",
     "text": [
      "Naive 2 errors\n"
     ]
    },
    {
     "name": "stderr",
     "output_type": "stream",
     "text": [
      "4800it [00:00, 19734.82it/s]\n"
     ]
    },
    {
     "name": "stdout",
     "output_type": "stream",
     "text": [
      "Computing features\n"
     ]
    },
    {
     "name": "stderr",
     "output_type": "stream",
     "text": [
      "/home/fede/.local/lib/python3.6/site-packages/statsmodels/regression/linear_model.py:1405: RuntimeWarning: invalid value encountered in sqrt\n",
      "  return rho, np.sqrt(sigmasq)\n",
      "/home/fede/.local/lib/python3.6/site-packages/statsmodels/regression/linear_model.py:1405: RuntimeWarning: invalid value encountered in sqrt\n",
      "  return rho, np.sqrt(sigmasq)\n",
      "/home/fede/.local/lib/python3.6/site-packages/statsmodels/regression/linear_model.py:1405: RuntimeWarning: invalid value encountered in sqrt\n",
      "  return rho, np.sqrt(sigmasq)\n",
      "/home/fede/.local/lib/python3.6/site-packages/statsmodels/regression/linear_model.py:1405: RuntimeWarning: invalid value encountered in sqrt\n",
      "  return rho, np.sqrt(sigmasq)\n",
      "/home/fede/.local/lib/python3.6/site-packages/statsmodels/regression/linear_model.py:1405: RuntimeWarning: invalid value encountered in sqrt\n",
      "  return rho, np.sqrt(sigmasq)\n",
      "/home/fede/.local/lib/python3.6/site-packages/statsmodels/regression/linear_model.py:1405: RuntimeWarning: invalid value encountered in sqrt\n",
      "  return rho, np.sqrt(sigmasq)\n",
      "/home/fede/.local/lib/python3.6/site-packages/statsmodels/regression/linear_model.py:1405: RuntimeWarning: invalid value encountered in sqrt\n",
      "  return rho, np.sqrt(sigmasq)\n",
      "/home/fede/.local/lib/python3.6/site-packages/statsmodels/regression/linear_model.py:1405: RuntimeWarning: invalid value encountered in sqrt\n",
      "  return rho, np.sqrt(sigmasq)\n",
      "/home/fede/.local/lib/python3.6/site-packages/statsmodels/regression/linear_model.py:1405: RuntimeWarning: invalid value encountered in sqrt\n",
      "  return rho, np.sqrt(sigmasq)\n",
      "/home/fede/.local/lib/python3.6/site-packages/statsmodels/regression/linear_model.py:1405: RuntimeWarning: invalid value encountered in sqrt\n",
      "  return rho, np.sqrt(sigmasq)\n",
      "/home/fede/.local/lib/python3.6/site-packages/statsmodels/regression/linear_model.py:1405: RuntimeWarning: invalid value encountered in sqrt\n",
      "  return rho, np.sqrt(sigmasq)\n",
      "/home/fede/.local/lib/python3.6/site-packages/statsmodels/regression/linear_model.py:1405: RuntimeWarning: invalid value encountered in sqrt\n",
      "  return rho, np.sqrt(sigmasq)\n",
      "/home/fede/.local/lib/python3.6/site-packages/statsmodels/regression/linear_model.py:1405: RuntimeWarning: invalid value encountered in sqrt\n",
      "  return rho, np.sqrt(sigmasq)\n",
      "/home/fede/.local/lib/python3.6/site-packages/statsmodels/regression/linear_model.py:1405: RuntimeWarning: invalid value encountered in sqrt\n",
      "  return rho, np.sqrt(sigmasq)\n",
      "/home/fede/.local/lib/python3.6/site-packages/statsmodels/regression/linear_model.py:1405: RuntimeWarning: invalid value encountered in sqrt\n",
      "  return rho, np.sqrt(sigmasq)\n",
      "/home/fede/.local/lib/python3.6/site-packages/statsmodels/regression/linear_model.py:1405: RuntimeWarning: invalid value encountered in sqrt\n",
      "  return rho, np.sqrt(sigmasq)\n",
      "/home/fede/.local/lib/python3.6/site-packages/statsmodels/regression/linear_model.py:1405: RuntimeWarning: invalid value encountered in sqrt\n",
      "  return rho, np.sqrt(sigmasq)\n",
      "/home/fede/.local/lib/python3.6/site-packages/statsmodels/regression/linear_model.py:1405: RuntimeWarning: invalid value encountered in sqrt\n",
      "  return rho, np.sqrt(sigmasq)\n",
      "/home/fede/.local/lib/python3.6/site-packages/statsmodels/regression/linear_model.py:1405: RuntimeWarning: invalid value encountered in sqrt\n",
      "  return rho, np.sqrt(sigmasq)\n",
      "/home/fede/.local/lib/python3.6/site-packages/statsmodels/regression/linear_model.py:1405: RuntimeWarning: invalid value encountered in sqrt\n",
      "  return rho, np.sqrt(sigmasq)\n",
      "/home/fede/.local/lib/python3.6/site-packages/statsmodels/regression/linear_model.py:1405: RuntimeWarning: invalid value encountered in sqrt\n",
      "  return rho, np.sqrt(sigmasq)\n",
      "/home/fede/.local/lib/python3.6/site-packages/statsmodels/regression/linear_model.py:1405: RuntimeWarning: invalid value encountered in sqrt\n",
      "  return rho, np.sqrt(sigmasq)\n",
      "/home/fede/.local/lib/python3.6/site-packages/statsmodels/regression/linear_model.py:1405: RuntimeWarning: invalid value encountered in sqrt\n",
      "  return rho, np.sqrt(sigmasq)\n",
      "/home/fede/.local/lib/python3.6/site-packages/statsmodels/regression/linear_model.py:1405: RuntimeWarning: invalid value encountered in sqrt\n",
      "  return rho, np.sqrt(sigmasq)\n",
      "/home/fede/.local/lib/python3.6/site-packages/statsmodels/regression/linear_model.py:1405: RuntimeWarning: invalid value encountered in sqrt\n",
      "  return rho, np.sqrt(sigmasq)\n",
      "/home/fede/.local/lib/python3.6/site-packages/statsmodels/regression/linear_model.py:1405: RuntimeWarning: invalid value encountered in sqrt\n",
      "  return rho, np.sqrt(sigmasq)\n",
      "/home/fede/.local/lib/python3.6/site-packages/statsmodels/regression/linear_model.py:1405: RuntimeWarning: invalid value encountered in sqrt\n",
      "  return rho, np.sqrt(sigmasq)\n",
      "/home/fede/.local/lib/python3.6/site-packages/statsmodels/regression/linear_model.py:1405: RuntimeWarning: invalid value encountered in sqrt\n",
      "  return rho, np.sqrt(sigmasq)\n",
      "/home/fede/.local/lib/python3.6/site-packages/statsmodels/regression/linear_model.py:1405: RuntimeWarning: invalid value encountered in sqrt\n",
      "  return rho, np.sqrt(sigmasq)\n",
      "/home/fede/.local/lib/python3.6/site-packages/statsmodels/regression/linear_model.py:1405: RuntimeWarning: invalid value encountered in sqrt\n",
      "  return rho, np.sqrt(sigmasq)\n",
      "/home/fede/.local/lib/python3.6/site-packages/statsmodels/regression/linear_model.py:1405: RuntimeWarning: invalid value encountered in sqrt\n",
      "  return rho, np.sqrt(sigmasq)\n",
      "/home/fede/.local/lib/python3.6/site-packages/statsmodels/regression/linear_model.py:1405: RuntimeWarning: invalid value encountered in sqrt\n",
      "  return rho, np.sqrt(sigmasq)\n",
      "/home/fede/.local/lib/python3.6/site-packages/statsmodels/regression/linear_model.py:1405: RuntimeWarning: invalid value encountered in sqrt\n",
      "  return rho, np.sqrt(sigmasq)\n",
      "/home/fede/.local/lib/python3.6/site-packages/statsmodels/regression/linear_model.py:1405: RuntimeWarning: invalid value encountered in sqrt\n",
      "  return rho, np.sqrt(sigmasq)\n"
     ]
    },
    {
     "name": "stdout",
     "output_type": "stream",
     "text": [
      "100%|██████████| 100/100 [20:07<00:00, 12.08s/trial, best loss: 1047.2520599816287]\n"
     ]
    },
    {
     "name": "stderr",
     "output_type": "stream",
     "text": [
      " 41%|████      | 58/143 [00:00<00:00, 573.61it/s]"
     ]
    },
    {
     "name": "stdout",
     "output_type": "stream",
     "text": [
      "===========Training on M3===========\n",
      "Setting model\n",
      "Computing contribution to owa\n",
      "Training NAIVE2\n"
     ]
    },
    {
     "name": "stderr",
     "output_type": "stream",
     "text": [
      "100%|██████████| 143/143 [00:00<00:00, 597.30it/s]\n",
      "143it [00:00, 21081.35it/s]\n",
      "143it [00:00, 9071.17it/s]\n",
      "143it [00:00, 69677.68it/s]\n",
      "143it [00:00, 23896.79it/s]\n"
     ]
    },
    {
     "name": "stdout",
     "output_type": "stream",
     "text": [
      "Calculating errors\n",
      "Naive 2 errors\n",
      "Computing features\n",
      "100%|██████████| 100/100 [00:23<00:00,  4.17trial/s, best loss: 28.259364972825367]\n",
      "===========Predicting with M4===========\n"
     ]
    },
    {
     "name": "stderr",
     "output_type": "stream",
     "text": [
      "  4%|▍         | 60/1428 [00:00<00:02, 595.19it/s]"
     ]
    },
    {
     "name": "stdout",
     "output_type": "stream",
     "text": [
      "Training NAIVE2\n"
     ]
    },
    {
     "name": "stderr",
     "output_type": "stream",
     "text": [
      "100%|██████████| 1428/1428 [00:02<00:00, 632.42it/s]\n",
      "1428it [00:00, 67659.23it/s]\n",
      "1428it [00:00, 26412.77it/s]\n",
      "1428it [00:00, 77717.65it/s]\n",
      "1428it [00:00, 28884.11it/s]\n"
     ]
    },
    {
     "name": "stdout",
     "output_type": "stream",
     "text": [
      "Calculating errors\n",
      "Naive 2 errors\n",
      "===========Predicting with M3===========\n"
     ]
    },
    {
     "name": "stderr",
     "output_type": "stream",
     "text": [
      "  8%|▊         | 117/1428 [00:00<00:02, 594.77it/s]"
     ]
    },
    {
     "name": "stdout",
     "output_type": "stream",
     "text": [
      "Training NAIVE2\n"
     ]
    },
    {
     "name": "stderr",
     "output_type": "stream",
     "text": [
      "100%|██████████| 1428/1428 [00:02<00:00, 614.58it/s]\n",
      "1428it [00:00, 63354.45it/s]\n",
      "1428it [00:00, 29418.68it/s]\n",
      "1428it [00:00, 76536.83it/s]\n",
      "1428it [00:00, 31437.30it/s]\n",
      "  0%|          | 0/4800 [00:00<?, ?it/s]"
     ]
    },
    {
     "name": "stdout",
     "output_type": "stream",
     "text": [
      "Calculating errors\n",
      "Naive 2 errors\n",
      "Errors:\n",
      "   idx  sample  owa_m3_m4  owa_m3_m3\n",
      "0    1     0.1   0.910099    1.06589\n",
      "\n",
      " \n",
      "\n",
      "========Sample 2: 0.1===========\n",
      "===========Training on M4===========\n",
      "Setting model\n",
      "Computing contribution to owa\n",
      "Training NAIVE2\n"
     ]
    },
    {
     "name": "stderr",
     "output_type": "stream",
     "text": [
      "100%|██████████| 4800/4800 [00:06<00:00, 714.04it/s]\n",
      "3670it [00:00, 18137.50it/s]"
     ]
    },
    {
     "name": "stdout",
     "output_type": "stream",
     "text": [
      "Calculating errors\n"
     ]
    },
    {
     "name": "stderr",
     "output_type": "stream",
     "text": [
      "4800it [00:00, 18203.34it/s]\n",
      "4800it [00:00, 7010.76it/s]\n",
      "4800it [00:00, 50297.45it/s]\n",
      "1573it [00:00, 15728.78it/s]"
     ]
    },
    {
     "name": "stdout",
     "output_type": "stream",
     "text": [
      "Naive 2 errors\n"
     ]
    },
    {
     "name": "stderr",
     "output_type": "stream",
     "text": [
      "4800it [00:00, 17513.09it/s]\n"
     ]
    },
    {
     "name": "stdout",
     "output_type": "stream",
     "text": [
      "Computing features\n"
     ]
    },
    {
     "name": "stderr",
     "output_type": "stream",
     "text": [
      "/home/fede/.local/lib/python3.6/site-packages/statsmodels/regression/linear_model.py:1405: RuntimeWarning: invalid value encountered in sqrt\n",
      "  return rho, np.sqrt(sigmasq)\n",
      "/home/fede/.local/lib/python3.6/site-packages/statsmodels/regression/linear_model.py:1405: RuntimeWarning: invalid value encountered in sqrt\n",
      "  return rho, np.sqrt(sigmasq)\n",
      "/home/fede/.local/lib/python3.6/site-packages/statsmodels/regression/linear_model.py:1405: RuntimeWarning: invalid value encountered in sqrt\n",
      "  return rho, np.sqrt(sigmasq)\n",
      "/home/fede/.local/lib/python3.6/site-packages/statsmodels/regression/linear_model.py:1405: RuntimeWarning: invalid value encountered in sqrt\n",
      "  return rho, np.sqrt(sigmasq)\n",
      "/home/fede/.local/lib/python3.6/site-packages/statsmodels/regression/linear_model.py:1405: RuntimeWarning: invalid value encountered in sqrt\n",
      "  return rho, np.sqrt(sigmasq)\n",
      "/home/fede/.local/lib/python3.6/site-packages/statsmodels/regression/linear_model.py:1405: RuntimeWarning: invalid value encountered in sqrt\n",
      "  return rho, np.sqrt(sigmasq)\n",
      "/home/fede/.local/lib/python3.6/site-packages/statsmodels/regression/linear_model.py:1405: RuntimeWarning: invalid value encountered in sqrt\n",
      "  return rho, np.sqrt(sigmasq)\n",
      "/home/fede/.local/lib/python3.6/site-packages/statsmodels/regression/linear_model.py:1405: RuntimeWarning: invalid value encountered in sqrt\n",
      "  return rho, np.sqrt(sigmasq)\n",
      "/home/fede/.local/lib/python3.6/site-packages/statsmodels/regression/linear_model.py:1405: RuntimeWarning: invalid value encountered in sqrt\n",
      "  return rho, np.sqrt(sigmasq)\n",
      "/home/fede/.local/lib/python3.6/site-packages/statsmodels/regression/linear_model.py:1405: RuntimeWarning: invalid value encountered in sqrt\n",
      "  return rho, np.sqrt(sigmasq)\n",
      "/home/fede/.local/lib/python3.6/site-packages/statsmodels/regression/linear_model.py:1405: RuntimeWarning: invalid value encountered in sqrt\n",
      "  return rho, np.sqrt(sigmasq)\n",
      "/home/fede/.local/lib/python3.6/site-packages/statsmodels/regression/linear_model.py:1405: RuntimeWarning: invalid value encountered in sqrt\n",
      "  return rho, np.sqrt(sigmasq)\n",
      "/home/fede/.local/lib/python3.6/site-packages/statsmodels/regression/linear_model.py:1405: RuntimeWarning: invalid value encountered in sqrt\n",
      "  return rho, np.sqrt(sigmasq)\n",
      "/home/fede/.local/lib/python3.6/site-packages/statsmodels/regression/linear_model.py:1405: RuntimeWarning: invalid value encountered in sqrt\n",
      "  return rho, np.sqrt(sigmasq)\n",
      "/home/fede/.local/lib/python3.6/site-packages/statsmodels/regression/linear_model.py:1405: RuntimeWarning: invalid value encountered in sqrt\n",
      "  return rho, np.sqrt(sigmasq)\n",
      "/home/fede/.local/lib/python3.6/site-packages/statsmodels/regression/linear_model.py:1405: RuntimeWarning: invalid value encountered in sqrt\n",
      "  return rho, np.sqrt(sigmasq)\n",
      "/home/fede/.local/lib/python3.6/site-packages/statsmodels/regression/linear_model.py:1405: RuntimeWarning: invalid value encountered in sqrt\n",
      "  return rho, np.sqrt(sigmasq)\n",
      "/home/fede/.local/lib/python3.6/site-packages/statsmodels/regression/linear_model.py:1405: RuntimeWarning: invalid value encountered in sqrt\n",
      "  return rho, np.sqrt(sigmasq)\n",
      "/home/fede/.local/lib/python3.6/site-packages/statsmodels/regression/linear_model.py:1405: RuntimeWarning: invalid value encountered in sqrt\n",
      "  return rho, np.sqrt(sigmasq)\n",
      "/home/fede/.local/lib/python3.6/site-packages/statsmodels/regression/linear_model.py:1405: RuntimeWarning: invalid value encountered in sqrt\n",
      "  return rho, np.sqrt(sigmasq)\n",
      "/home/fede/.local/lib/python3.6/site-packages/statsmodels/regression/linear_model.py:1405: RuntimeWarning: invalid value encountered in sqrt\n",
      "  return rho, np.sqrt(sigmasq)\n",
      "/home/fede/.local/lib/python3.6/site-packages/statsmodels/regression/linear_model.py:1405: RuntimeWarning: invalid value encountered in sqrt\n",
      "  return rho, np.sqrt(sigmasq)\n",
      "/home/fede/.local/lib/python3.6/site-packages/statsmodels/regression/linear_model.py:1405: RuntimeWarning: invalid value encountered in sqrt\n",
      "  return rho, np.sqrt(sigmasq)\n",
      "/home/fede/.local/lib/python3.6/site-packages/statsmodels/regression/linear_model.py:1405: RuntimeWarning: invalid value encountered in sqrt\n",
      "  return rho, np.sqrt(sigmasq)\n",
      "/home/fede/.local/lib/python3.6/site-packages/statsmodels/regression/linear_model.py:1405: RuntimeWarning: invalid value encountered in sqrt\n",
      "  return rho, np.sqrt(sigmasq)\n",
      "/home/fede/.local/lib/python3.6/site-packages/statsmodels/regression/linear_model.py:1405: RuntimeWarning: invalid value encountered in sqrt\n",
      "  return rho, np.sqrt(sigmasq)\n",
      "/home/fede/.local/lib/python3.6/site-packages/statsmodels/regression/linear_model.py:1405: RuntimeWarning: invalid value encountered in sqrt\n",
      "  return rho, np.sqrt(sigmasq)\n",
      "/home/fede/.local/lib/python3.6/site-packages/statsmodels/regression/linear_model.py:1405: RuntimeWarning: invalid value encountered in sqrt\n",
      "  return rho, np.sqrt(sigmasq)\n",
      "/home/fede/.local/lib/python3.6/site-packages/statsmodels/regression/linear_model.py:1405: RuntimeWarning: invalid value encountered in sqrt\n",
      "  return rho, np.sqrt(sigmasq)\n",
      "/home/fede/.local/lib/python3.6/site-packages/statsmodels/regression/linear_model.py:1405: RuntimeWarning: invalid value encountered in sqrt\n",
      "  return rho, np.sqrt(sigmasq)\n",
      "/home/fede/.local/lib/python3.6/site-packages/statsmodels/regression/linear_model.py:1405: RuntimeWarning: invalid value encountered in sqrt\n",
      "  return rho, np.sqrt(sigmasq)\n",
      "/home/fede/.local/lib/python3.6/site-packages/statsmodels/regression/linear_model.py:1405: RuntimeWarning: invalid value encountered in sqrt\n",
      "  return rho, np.sqrt(sigmasq)\n",
      "/home/fede/.local/lib/python3.6/site-packages/statsmodels/regression/linear_model.py:1405: RuntimeWarning: invalid value encountered in sqrt\n",
      "  return rho, np.sqrt(sigmasq)\n",
      "/home/fede/.local/lib/python3.6/site-packages/statsmodels/regression/linear_model.py:1405: RuntimeWarning: invalid value encountered in sqrt\n",
      "  return rho, np.sqrt(sigmasq)\n"
     ]
    },
    {
     "name": "stdout",
     "output_type": "stream",
     "text": [
      "100%|██████████| 100/100 [19:07<00:00, 11.47s/trial, best loss: 1034.0511599505621]\n"
     ]
    },
    {
     "name": "stderr",
     "output_type": "stream",
     "text": [
      " 40%|███▉      | 57/143 [00:00<00:00, 561.06it/s]"
     ]
    },
    {
     "name": "stdout",
     "output_type": "stream",
     "text": [
      "===========Training on M3===========\n",
      "Setting model\n",
      "Computing contribution to owa\n",
      "Training NAIVE2\n"
     ]
    },
    {
     "name": "stderr",
     "output_type": "stream",
     "text": [
      "100%|██████████| 143/143 [00:00<00:00, 581.02it/s]\n",
      "143it [00:00, 22388.41it/s]\n",
      "143it [00:00, 9855.01it/s]\n",
      "143it [00:00, 72037.65it/s]\n",
      "143it [00:00, 26760.61it/s]\n"
     ]
    },
    {
     "name": "stdout",
     "output_type": "stream",
     "text": [
      "Calculating errors\n",
      "Naive 2 errors\n",
      "Computing features\n",
      "100%|██████████| 100/100 [00:38<00:00,  2.63trial/s, best loss: 26.02008539494776]\n",
      "===========Predicting with M4===========\n"
     ]
    },
    {
     "name": "stderr",
     "output_type": "stream",
     "text": [
      "  4%|▍         | 59/1428 [00:00<00:02, 583.31it/s]"
     ]
    },
    {
     "name": "stdout",
     "output_type": "stream",
     "text": [
      "Training NAIVE2\n"
     ]
    },
    {
     "name": "stderr",
     "output_type": "stream",
     "text": [
      "100%|██████████| 1428/1428 [00:02<00:00, 602.85it/s]\n",
      "1428it [00:00, 62660.50it/s]\n",
      "1428it [00:00, 26311.02it/s]\n",
      "1428it [00:00, 75468.30it/s]\n",
      "1428it [00:00, 32024.44it/s]\n"
     ]
    },
    {
     "name": "stdout",
     "output_type": "stream",
     "text": [
      "Calculating errors\n",
      "Naive 2 errors\n",
      "===========Predicting with M3===========\n"
     ]
    },
    {
     "name": "stderr",
     "output_type": "stream",
     "text": [
      "  4%|▍         | 61/1428 [00:00<00:02, 604.90it/s]"
     ]
    },
    {
     "name": "stdout",
     "output_type": "stream",
     "text": [
      "Training NAIVE2\n"
     ]
    },
    {
     "name": "stderr",
     "output_type": "stream",
     "text": [
      "100%|██████████| 1428/1428 [00:02<00:00, 598.23it/s]\n",
      "1428it [00:00, 64621.74it/s]\n",
      "1428it [00:00, 26121.34it/s]\n",
      "1428it [00:00, 78609.14it/s]\n",
      "1428it [00:00, 29997.28it/s]\n",
      "  0%|          | 0/4800 [00:00<?, ?it/s]"
     ]
    },
    {
     "name": "stdout",
     "output_type": "stream",
     "text": [
      "Calculating errors\n",
      "Naive 2 errors\n",
      "Errors:\n",
      "   idx  sample  owa_m3_m4  owa_m3_m3\n",
      "0    2     0.1   0.922305   1.065804\n",
      "\n",
      " \n",
      "\n",
      "========Sample 3: 0.1===========\n",
      "===========Training on M4===========\n",
      "Setting model\n",
      "Computing contribution to owa\n",
      "Training NAIVE2\n"
     ]
    },
    {
     "name": "stderr",
     "output_type": "stream",
     "text": [
      "100%|██████████| 4800/4800 [00:06<00:00, 694.00it/s]\n",
      "3304it [00:00, 16204.12it/s]"
     ]
    },
    {
     "name": "stdout",
     "output_type": "stream",
     "text": [
      "Calculating errors\n"
     ]
    },
    {
     "name": "stderr",
     "output_type": "stream",
     "text": [
      "4800it [00:00, 16920.85it/s]\n",
      "4800it [00:00, 6718.67it/s]\n",
      "4800it [00:00, 46902.05it/s]\n",
      "0it [00:00, ?it/s]"
     ]
    },
    {
     "name": "stdout",
     "output_type": "stream",
     "text": [
      "Naive 2 errors\n"
     ]
    },
    {
     "name": "stderr",
     "output_type": "stream",
     "text": [
      "4800it [00:00, 17555.42it/s]\n"
     ]
    },
    {
     "name": "stdout",
     "output_type": "stream",
     "text": [
      "Computing features\n"
     ]
    },
    {
     "name": "stderr",
     "output_type": "stream",
     "text": [
      "/home/fede/.local/lib/python3.6/site-packages/statsmodels/regression/linear_model.py:1405: RuntimeWarning: invalid value encountered in sqrt\n",
      "  return rho, np.sqrt(sigmasq)\n",
      "/home/fede/.local/lib/python3.6/site-packages/statsmodels/regression/linear_model.py:1405: RuntimeWarning: invalid value encountered in sqrt\n",
      "  return rho, np.sqrt(sigmasq)\n",
      "/home/fede/.local/lib/python3.6/site-packages/statsmodels/regression/linear_model.py:1405: RuntimeWarning: invalid value encountered in sqrt\n",
      "  return rho, np.sqrt(sigmasq)\n",
      "/home/fede/.local/lib/python3.6/site-packages/statsmodels/regression/linear_model.py:1405: RuntimeWarning: invalid value encountered in sqrt\n",
      "  return rho, np.sqrt(sigmasq)\n",
      "/home/fede/.local/lib/python3.6/site-packages/statsmodels/regression/linear_model.py:1405: RuntimeWarning: invalid value encountered in sqrt\n",
      "  return rho, np.sqrt(sigmasq)\n",
      "/home/fede/.local/lib/python3.6/site-packages/statsmodels/regression/linear_model.py:1405: RuntimeWarning: invalid value encountered in sqrt\n",
      "  return rho, np.sqrt(sigmasq)\n",
      "/home/fede/.local/lib/python3.6/site-packages/statsmodels/regression/linear_model.py:1405: RuntimeWarning: invalid value encountered in sqrt\n",
      "  return rho, np.sqrt(sigmasq)\n",
      "/home/fede/.local/lib/python3.6/site-packages/statsmodels/regression/linear_model.py:1405: RuntimeWarning: invalid value encountered in sqrt\n",
      "  return rho, np.sqrt(sigmasq)\n",
      "/home/fede/.local/lib/python3.6/site-packages/statsmodels/regression/linear_model.py:1405: RuntimeWarning: invalid value encountered in sqrt\n",
      "  return rho, np.sqrt(sigmasq)\n",
      "/home/fede/.local/lib/python3.6/site-packages/statsmodels/regression/linear_model.py:1405: RuntimeWarning: invalid value encountered in sqrt\n",
      "  return rho, np.sqrt(sigmasq)\n",
      "/home/fede/.local/lib/python3.6/site-packages/statsmodels/regression/linear_model.py:1405: RuntimeWarning: invalid value encountered in sqrt\n",
      "  return rho, np.sqrt(sigmasq)\n",
      "/home/fede/.local/lib/python3.6/site-packages/statsmodels/regression/linear_model.py:1405: RuntimeWarning: invalid value encountered in sqrt\n",
      "  return rho, np.sqrt(sigmasq)\n",
      "/home/fede/.local/lib/python3.6/site-packages/statsmodels/regression/linear_model.py:1405: RuntimeWarning: invalid value encountered in sqrt\n",
      "  return rho, np.sqrt(sigmasq)\n",
      "/home/fede/.local/lib/python3.6/site-packages/statsmodels/regression/linear_model.py:1405: RuntimeWarning: invalid value encountered in sqrt\n",
      "  return rho, np.sqrt(sigmasq)\n",
      "/home/fede/.local/lib/python3.6/site-packages/statsmodels/regression/linear_model.py:1405: RuntimeWarning: invalid value encountered in sqrt\n",
      "  return rho, np.sqrt(sigmasq)\n",
      "/home/fede/.local/lib/python3.6/site-packages/statsmodels/regression/linear_model.py:1405: RuntimeWarning: invalid value encountered in sqrt\n",
      "  return rho, np.sqrt(sigmasq)\n",
      "/home/fede/.local/lib/python3.6/site-packages/statsmodels/regression/linear_model.py:1405: RuntimeWarning: invalid value encountered in sqrt\n",
      "  return rho, np.sqrt(sigmasq)\n",
      "/home/fede/.local/lib/python3.6/site-packages/statsmodels/regression/linear_model.py:1405: RuntimeWarning: invalid value encountered in sqrt\n",
      "  return rho, np.sqrt(sigmasq)\n",
      "/home/fede/.local/lib/python3.6/site-packages/statsmodels/regression/linear_model.py:1405: RuntimeWarning: invalid value encountered in sqrt\n",
      "  return rho, np.sqrt(sigmasq)\n",
      "/home/fede/.local/lib/python3.6/site-packages/statsmodels/regression/linear_model.py:1405: RuntimeWarning: invalid value encountered in sqrt\n",
      "  return rho, np.sqrt(sigmasq)\n",
      "/home/fede/.local/lib/python3.6/site-packages/statsmodels/regression/linear_model.py:1405: RuntimeWarning: invalid value encountered in sqrt\n",
      "  return rho, np.sqrt(sigmasq)\n",
      "/home/fede/.local/lib/python3.6/site-packages/statsmodels/regression/linear_model.py:1405: RuntimeWarning: invalid value encountered in sqrt\n",
      "  return rho, np.sqrt(sigmasq)\n",
      "/home/fede/.local/lib/python3.6/site-packages/statsmodels/regression/linear_model.py:1405: RuntimeWarning: invalid value encountered in sqrt\n",
      "  return rho, np.sqrt(sigmasq)\n",
      "/home/fede/.local/lib/python3.6/site-packages/statsmodels/regression/linear_model.py:1405: RuntimeWarning: invalid value encountered in sqrt\n",
      "  return rho, np.sqrt(sigmasq)\n",
      "/home/fede/.local/lib/python3.6/site-packages/statsmodels/regression/linear_model.py:1405: RuntimeWarning: invalid value encountered in sqrt\n",
      "  return rho, np.sqrt(sigmasq)\n",
      "/home/fede/.local/lib/python3.6/site-packages/statsmodels/regression/linear_model.py:1405: RuntimeWarning: invalid value encountered in sqrt\n",
      "  return rho, np.sqrt(sigmasq)\n",
      "/home/fede/.local/lib/python3.6/site-packages/statsmodels/regression/linear_model.py:1405: RuntimeWarning: invalid value encountered in sqrt\n",
      "  return rho, np.sqrt(sigmasq)\n",
      "/home/fede/.local/lib/python3.6/site-packages/statsmodels/regression/linear_model.py:1405: RuntimeWarning: invalid value encountered in sqrt\n",
      "  return rho, np.sqrt(sigmasq)\n",
      "/home/fede/.local/lib/python3.6/site-packages/statsmodels/regression/linear_model.py:1405: RuntimeWarning: invalid value encountered in sqrt\n",
      "  return rho, np.sqrt(sigmasq)\n",
      "/home/fede/.local/lib/python3.6/site-packages/statsmodels/regression/linear_model.py:1405: RuntimeWarning: invalid value encountered in sqrt\n",
      "  return rho, np.sqrt(sigmasq)\n",
      "/home/fede/.local/lib/python3.6/site-packages/statsmodels/regression/linear_model.py:1405: RuntimeWarning: invalid value encountered in sqrt\n",
      "  return rho, np.sqrt(sigmasq)\n",
      "/home/fede/.local/lib/python3.6/site-packages/statsmodels/regression/linear_model.py:1405: RuntimeWarning: invalid value encountered in sqrt\n",
      "  return rho, np.sqrt(sigmasq)\n",
      "/home/fede/.local/lib/python3.6/site-packages/statsmodels/regression/linear_model.py:1405: RuntimeWarning: invalid value encountered in sqrt\n",
      "  return rho, np.sqrt(sigmasq)\n",
      "/home/fede/.local/lib/python3.6/site-packages/statsmodels/regression/linear_model.py:1405: RuntimeWarning: invalid value encountered in sqrt\n",
      "  return rho, np.sqrt(sigmasq)\n"
     ]
    },
    {
     "name": "stdout",
     "output_type": "stream",
     "text": [
      "100%|██████████| 100/100 [18:07<00:00, 10.87s/trial, best loss: 1041.7227733420864]\n"
     ]
    },
    {
     "name": "stderr",
     "output_type": "stream",
     "text": [
      " 38%|███▊      | 54/143 [00:00<00:00, 533.92it/s]"
     ]
    },
    {
     "name": "stdout",
     "output_type": "stream",
     "text": [
      "===========Training on M3===========\n",
      "Setting model\n",
      "Computing contribution to owa\n",
      "Training NAIVE2\n"
     ]
    },
    {
     "name": "stderr",
     "output_type": "stream",
     "text": [
      "100%|██████████| 143/143 [00:00<00:00, 556.23it/s]\n",
      "143it [00:00, 23770.83it/s]\n",
      "143it [00:00, 10006.60it/s]\n",
      "143it [00:00, 70109.35it/s]\n",
      "143it [00:00, 23499.80it/s]\n"
     ]
    },
    {
     "name": "stdout",
     "output_type": "stream",
     "text": [
      "Calculating errors\n",
      "Naive 2 errors\n",
      "Computing features\n",
      "100%|██████████| 100/100 [00:13<00:00,  7.23trial/s, best loss: 32.31500816791269]\n",
      "===========Predicting with M4===========\n"
     ]
    },
    {
     "name": "stderr",
     "output_type": "stream",
     "text": [
      "  4%|▍         | 60/1428 [00:00<00:02, 595.31it/s]"
     ]
    },
    {
     "name": "stdout",
     "output_type": "stream",
     "text": [
      "Training NAIVE2\n"
     ]
    },
    {
     "name": "stderr",
     "output_type": "stream",
     "text": [
      "100%|██████████| 1428/1428 [00:02<00:00, 618.31it/s]\n",
      "1428it [00:00, 64922.24it/s]\n",
      "1428it [00:00, 29563.01it/s]\n",
      "1428it [00:00, 75400.84it/s]\n",
      "1428it [00:00, 31392.81it/s]\n"
     ]
    },
    {
     "name": "stdout",
     "output_type": "stream",
     "text": [
      "Calculating errors\n",
      "Naive 2 errors\n",
      "===========Predicting with M3===========\n"
     ]
    },
    {
     "name": "stderr",
     "output_type": "stream",
     "text": [
      "  5%|▍         | 65/1428 [00:00<00:02, 637.60it/s]"
     ]
    },
    {
     "name": "stdout",
     "output_type": "stream",
     "text": [
      "Training NAIVE2\n"
     ]
    },
    {
     "name": "stderr",
     "output_type": "stream",
     "text": [
      "100%|██████████| 1428/1428 [00:02<00:00, 625.89it/s]\n",
      "1428it [00:00, 62361.69it/s]\n",
      "1428it [00:00, 27930.34it/s]\n",
      "1428it [00:00, 74627.65it/s]\n",
      "1428it [00:00, 28904.04it/s]\n",
      "  0%|          | 0/4800 [00:00<?, ?it/s]"
     ]
    },
    {
     "name": "stdout",
     "output_type": "stream",
     "text": [
      "Calculating errors\n",
      "Naive 2 errors\n",
      "Errors:\n",
      "   idx  sample  owa_m3_m4  owa_m3_m3\n",
      "0    3     0.1   0.938329   0.912325\n",
      "\n",
      " \n",
      "\n",
      "========Sample 4: 0.1===========\n",
      "===========Training on M4===========\n",
      "Setting model\n",
      "Computing contribution to owa\n",
      "Training NAIVE2\n"
     ]
    },
    {
     "name": "stderr",
     "output_type": "stream",
     "text": [
      "100%|██████████| 4800/4800 [00:06<00:00, 713.84it/s]\n",
      "1837it [00:00, 18363.14it/s]"
     ]
    },
    {
     "name": "stdout",
     "output_type": "stream",
     "text": [
      "Calculating errors\n"
     ]
    },
    {
     "name": "stderr",
     "output_type": "stream",
     "text": [
      "4800it [00:00, 18280.51it/s]\n",
      "4800it [00:00, 6354.31it/s]\n",
      "4800it [00:00, 46143.12it/s]\n",
      "0it [00:00, ?it/s]"
     ]
    },
    {
     "name": "stdout",
     "output_type": "stream",
     "text": [
      "Naive 2 errors\n"
     ]
    },
    {
     "name": "stderr",
     "output_type": "stream",
     "text": [
      "4800it [00:00, 15385.45it/s]\n"
     ]
    },
    {
     "name": "stdout",
     "output_type": "stream",
     "text": [
      "Computing features\n"
     ]
    },
    {
     "name": "stderr",
     "output_type": "stream",
     "text": [
      "/home/fede/.local/lib/python3.6/site-packages/statsmodels/regression/linear_model.py:1405: RuntimeWarning: invalid value encountered in sqrt\n",
      "  return rho, np.sqrt(sigmasq)\n",
      "/home/fede/.local/lib/python3.6/site-packages/statsmodels/regression/linear_model.py:1405: RuntimeWarning: invalid value encountered in sqrt\n",
      "  return rho, np.sqrt(sigmasq)\n",
      "/home/fede/.local/lib/python3.6/site-packages/statsmodels/regression/linear_model.py:1405: RuntimeWarning: invalid value encountered in sqrt\n",
      "  return rho, np.sqrt(sigmasq)\n",
      "/home/fede/.local/lib/python3.6/site-packages/statsmodels/regression/linear_model.py:1405: RuntimeWarning: invalid value encountered in sqrt\n",
      "  return rho, np.sqrt(sigmasq)\n",
      "/home/fede/.local/lib/python3.6/site-packages/statsmodels/regression/linear_model.py:1405: RuntimeWarning: invalid value encountered in sqrt\n",
      "  return rho, np.sqrt(sigmasq)\n",
      "/home/fede/.local/lib/python3.6/site-packages/statsmodels/regression/linear_model.py:1405: RuntimeWarning: invalid value encountered in sqrt\n",
      "  return rho, np.sqrt(sigmasq)\n",
      "/home/fede/.local/lib/python3.6/site-packages/statsmodels/regression/linear_model.py:1405: RuntimeWarning: invalid value encountered in sqrt\n",
      "  return rho, np.sqrt(sigmasq)\n",
      "/home/fede/.local/lib/python3.6/site-packages/statsmodels/regression/linear_model.py:1405: RuntimeWarning: invalid value encountered in sqrt\n",
      "  return rho, np.sqrt(sigmasq)\n",
      "/home/fede/.local/lib/python3.6/site-packages/statsmodels/regression/linear_model.py:1405: RuntimeWarning: invalid value encountered in sqrt\n",
      "  return rho, np.sqrt(sigmasq)\n",
      "/home/fede/.local/lib/python3.6/site-packages/statsmodels/regression/linear_model.py:1405: RuntimeWarning: invalid value encountered in sqrt\n",
      "  return rho, np.sqrt(sigmasq)\n",
      "/home/fede/.local/lib/python3.6/site-packages/statsmodels/regression/linear_model.py:1405: RuntimeWarning: invalid value encountered in sqrt\n",
      "  return rho, np.sqrt(sigmasq)\n",
      "/home/fede/.local/lib/python3.6/site-packages/statsmodels/regression/linear_model.py:1405: RuntimeWarning: invalid value encountered in sqrt\n",
      "  return rho, np.sqrt(sigmasq)\n",
      "/home/fede/.local/lib/python3.6/site-packages/statsmodels/regression/linear_model.py:1405: RuntimeWarning: invalid value encountered in sqrt\n",
      "  return rho, np.sqrt(sigmasq)\n",
      "/home/fede/.local/lib/python3.6/site-packages/statsmodels/regression/linear_model.py:1405: RuntimeWarning: invalid value encountered in sqrt\n",
      "  return rho, np.sqrt(sigmasq)\n",
      "/home/fede/.local/lib/python3.6/site-packages/statsmodels/regression/linear_model.py:1405: RuntimeWarning: invalid value encountered in sqrt\n",
      "  return rho, np.sqrt(sigmasq)\n",
      "/home/fede/.local/lib/python3.6/site-packages/statsmodels/regression/linear_model.py:1405: RuntimeWarning: invalid value encountered in sqrt\n",
      "  return rho, np.sqrt(sigmasq)\n",
      "/home/fede/.local/lib/python3.6/site-packages/statsmodels/regression/linear_model.py:1405: RuntimeWarning: invalid value encountered in sqrt\n",
      "  return rho, np.sqrt(sigmasq)\n",
      "/home/fede/.local/lib/python3.6/site-packages/statsmodels/regression/linear_model.py:1405: RuntimeWarning: invalid value encountered in sqrt\n",
      "  return rho, np.sqrt(sigmasq)\n",
      "/home/fede/.local/lib/python3.6/site-packages/statsmodels/regression/linear_model.py:1405: RuntimeWarning: invalid value encountered in sqrt\n",
      "  return rho, np.sqrt(sigmasq)\n",
      "/home/fede/.local/lib/python3.6/site-packages/statsmodels/regression/linear_model.py:1405: RuntimeWarning: invalid value encountered in sqrt\n",
      "  return rho, np.sqrt(sigmasq)\n",
      "/home/fede/.local/lib/python3.6/site-packages/statsmodels/regression/linear_model.py:1405: RuntimeWarning: invalid value encountered in sqrt\n",
      "  return rho, np.sqrt(sigmasq)\n",
      "/home/fede/.local/lib/python3.6/site-packages/statsmodels/regression/linear_model.py:1405: RuntimeWarning: invalid value encountered in sqrt\n",
      "  return rho, np.sqrt(sigmasq)\n",
      "/home/fede/.local/lib/python3.6/site-packages/statsmodels/regression/linear_model.py:1405: RuntimeWarning: invalid value encountered in sqrt\n",
      "  return rho, np.sqrt(sigmasq)\n",
      "/home/fede/.local/lib/python3.6/site-packages/statsmodels/regression/linear_model.py:1405: RuntimeWarning: invalid value encountered in sqrt\n",
      "  return rho, np.sqrt(sigmasq)\n",
      "/home/fede/.local/lib/python3.6/site-packages/statsmodels/regression/linear_model.py:1405: RuntimeWarning: invalid value encountered in sqrt\n",
      "  return rho, np.sqrt(sigmasq)\n",
      "/home/fede/.local/lib/python3.6/site-packages/statsmodels/regression/linear_model.py:1405: RuntimeWarning: invalid value encountered in sqrt\n",
      "  return rho, np.sqrt(sigmasq)\n",
      "/home/fede/.local/lib/python3.6/site-packages/statsmodels/regression/linear_model.py:1405: RuntimeWarning: invalid value encountered in sqrt\n",
      "  return rho, np.sqrt(sigmasq)\n",
      "/home/fede/.local/lib/python3.6/site-packages/statsmodels/regression/linear_model.py:1405: RuntimeWarning: invalid value encountered in sqrt\n",
      "  return rho, np.sqrt(sigmasq)\n",
      "/home/fede/.local/lib/python3.6/site-packages/statsmodels/regression/linear_model.py:1405: RuntimeWarning: invalid value encountered in sqrt\n",
      "  return rho, np.sqrt(sigmasq)\n",
      "/home/fede/.local/lib/python3.6/site-packages/statsmodels/regression/linear_model.py:1405: RuntimeWarning: invalid value encountered in sqrt\n",
      "  return rho, np.sqrt(sigmasq)\n",
      "/home/fede/.local/lib/python3.6/site-packages/statsmodels/regression/linear_model.py:1405: RuntimeWarning: invalid value encountered in sqrt\n",
      "  return rho, np.sqrt(sigmasq)\n",
      "/home/fede/.local/lib/python3.6/site-packages/statsmodels/regression/linear_model.py:1405: RuntimeWarning: invalid value encountered in sqrt\n",
      "  return rho, np.sqrt(sigmasq)\n",
      "/home/fede/.local/lib/python3.6/site-packages/statsmodels/regression/linear_model.py:1405: RuntimeWarning: invalid value encountered in sqrt\n",
      "  return rho, np.sqrt(sigmasq)\n",
      "/home/fede/.local/lib/python3.6/site-packages/statsmodels/regression/linear_model.py:1405: RuntimeWarning: invalid value encountered in sqrt\n",
      "  return rho, np.sqrt(sigmasq)\n"
     ]
    },
    {
     "name": "stdout",
     "output_type": "stream",
     "text": [
      "100%|██████████| 100/100 [20:58<00:00, 12.58s/trial, best loss: 1032.7016784564285]\n"
     ]
    },
    {
     "name": "stderr",
     "output_type": "stream",
     "text": [
      " 35%|███▍      | 50/143 [00:00<00:00, 495.90it/s]"
     ]
    },
    {
     "name": "stdout",
     "output_type": "stream",
     "text": [
      "===========Training on M3===========\n",
      "Setting model\n",
      "Computing contribution to owa\n",
      "Training NAIVE2\n"
     ]
    },
    {
     "name": "stderr",
     "output_type": "stream",
     "text": [
      "100%|██████████| 143/143 [00:00<00:00, 535.78it/s]\n",
      "143it [00:00, 26444.40it/s]\n",
      "143it [00:00, 8765.33it/s]\n",
      "143it [00:00, 65557.49it/s]\n",
      "143it [00:00, 24657.16it/s]\n"
     ]
    },
    {
     "name": "stdout",
     "output_type": "stream",
     "text": [
      "Calculating errors\n",
      "Naive 2 errors\n",
      "Computing features\n",
      "100%|██████████| 100/100 [00:43<00:00,  2.31trial/s, best loss: 24.959616716333993]\n",
      "===========Predicting with M4===========\n"
     ]
    },
    {
     "name": "stderr",
     "output_type": "stream",
     "text": [
      "  4%|▍         | 62/1428 [00:00<00:02, 615.26it/s]"
     ]
    },
    {
     "name": "stdout",
     "output_type": "stream",
     "text": [
      "Training NAIVE2\n"
     ]
    },
    {
     "name": "stderr",
     "output_type": "stream",
     "text": [
      "100%|██████████| 1428/1428 [00:02<00:00, 628.12it/s]\n",
      "1428it [00:00, 66639.96it/s]\n",
      "1428it [00:00, 25516.41it/s]\n",
      "1428it [00:00, 81155.88it/s]\n",
      "1428it [00:00, 29256.44it/s]\n"
     ]
    },
    {
     "name": "stdout",
     "output_type": "stream",
     "text": [
      "Calculating errors\n",
      "Naive 2 errors\n",
      "===========Predicting with M3===========\n"
     ]
    },
    {
     "name": "stderr",
     "output_type": "stream",
     "text": [
      "  3%|▎         | 45/1428 [00:00<00:03, 443.34it/s]"
     ]
    },
    {
     "name": "stdout",
     "output_type": "stream",
     "text": [
      "Training NAIVE2\n"
     ]
    },
    {
     "name": "stderr",
     "output_type": "stream",
     "text": [
      "100%|██████████| 1428/1428 [00:02<00:00, 567.10it/s]\n",
      "1428it [00:00, 61449.33it/s]\n",
      "1428it [00:00, 27413.38it/s]\n",
      "1428it [00:00, 80528.47it/s]\n",
      "1428it [00:00, 27680.70it/s]\n",
      "  0%|          | 0/1428 [00:00<?, ?it/s]"
     ]
    },
    {
     "name": "stdout",
     "output_type": "stream",
     "text": [
      "Calculating errors\n",
      "Naive 2 errors\n",
      "Errors:\n",
      "   idx  sample  owa_m3_m4  owa_m3_m3\n",
      "0    4     0.1   0.938315   1.065709\n",
      "\n",
      "Complete M3\n",
      "Setting model\n",
      "Computing contribution to owa\n",
      "Training NAIVE2\n"
     ]
    },
    {
     "name": "stderr",
     "output_type": "stream",
     "text": [
      "100%|██████████| 1428/1428 [00:02<00:00, 586.36it/s]\n",
      "1428it [00:00, 25185.93it/s]\n",
      "946it [00:00, 9459.15it/s]"
     ]
    },
    {
     "name": "stdout",
     "output_type": "stream",
     "text": [
      "Calculating errors\n"
     ]
    },
    {
     "name": "stderr",
     "output_type": "stream",
     "text": [
      "1428it [00:00, 9654.62it/s]\n",
      "1428it [00:00, 81639.28it/s]\n",
      "1428it [00:00, 31324.02it/s]\n"
     ]
    },
    {
     "name": "stdout",
     "output_type": "stream",
     "text": [
      "Naive 2 errors\n",
      "Computing features\n",
      "100%|██████████| 100/100 [04:54<00:00,  2.95s/trial, best loss: 308.8717273903391]\n"
     ]
    },
    {
     "name": "stderr",
     "output_type": "stream",
     "text": [
      "  4%|▍         | 60/1428 [00:00<00:02, 596.76it/s]"
     ]
    },
    {
     "name": "stdout",
     "output_type": "stream",
     "text": [
      "Training NAIVE2\n"
     ]
    },
    {
     "name": "stderr",
     "output_type": "stream",
     "text": [
      "100%|██████████| 1428/1428 [00:02<00:00, 567.75it/s]\n",
      "0it [00:00, ?it/s]"
     ]
    },
    {
     "name": "stdout",
     "output_type": "stream",
     "text": [
      "Calculating errors\n"
     ]
    },
    {
     "ename": "AssertionError",
     "evalue": "ts must have the same size of ts_hat",
     "output_type": "error",
     "traceback": [
      "\u001b[0;31m---------------------------------------------------------------------------\u001b[0m",
      "\u001b[0;31mAssertionError\u001b[0m                            Traceback (most recent call last)",
      "\u001b[0;32m<ipython-input-6-f6156079f59f>\u001b[0m in \u001b[0;36m<module>\u001b[0;34m\u001b[0m\n\u001b[1;32m     36\u001b[0m \u001b[0mpreds_m3_comp\u001b[0m \u001b[0;34m=\u001b[0m \u001b[0mfforma_m3_comp\u001b[0m\u001b[0;34m.\u001b[0m\u001b[0mpredict\u001b[0m\u001b[0;34m(\u001b[0m\u001b[0mcomplete_m3\u001b[0m\u001b[0;34m[\u001b[0m\u001b[0;34m'ts'\u001b[0m\u001b[0;34m]\u001b[0m\u001b[0;34m,\u001b[0m \u001b[0mcomplete_m3\u001b[0m\u001b[0;34m[\u001b[0m\u001b[0;34m'ts_hat_test'\u001b[0m\u001b[0;34m]\u001b[0m\u001b[0;34m,\u001b[0m \u001b[0mfrcy\u001b[0m\u001b[0;34m=\u001b[0m\u001b[0mfrcy\u001b[0m\u001b[0;34m)\u001b[0m\u001b[0;34m\u001b[0m\u001b[0;34m\u001b[0m\u001b[0m\n\u001b[1;32m     37\u001b[0m \u001b[0mpreds_m3_comp\u001b[0m \u001b[0;34m=\u001b[0m \u001b[0;34m[\u001b[0m\u001b[0;34m[\u001b[0m\u001b[0mpred\u001b[0m\u001b[0;34m]\u001b[0m \u001b[0;32mfor\u001b[0m \u001b[0mpred\u001b[0m \u001b[0;32min\u001b[0m \u001b[0mpreds_m3_comp\u001b[0m\u001b[0;34m]\u001b[0m\u001b[0;34m\u001b[0m\u001b[0;34m\u001b[0m\u001b[0m\n\u001b[0;32m---> 38\u001b[0;31m \u001b[0mowa_m3_m3_comp\u001b[0m \u001b[0;34m=\u001b[0m \u001b[0mfforma_m3_comp\u001b[0m\u001b[0;34m.\u001b[0m\u001b[0mcontribution_to_owa\u001b[0m\u001b[0;34m(\u001b[0m\u001b[0mcomplete_m3\u001b[0m\u001b[0;34m[\u001b[0m\u001b[0;34m'ts'\u001b[0m\u001b[0;34m]\u001b[0m\u001b[0;34m,\u001b[0m \u001b[0mcomplete_m3\u001b[0m\u001b[0;34m[\u001b[0m\u001b[0;34m'ts_hat_test'\u001b[0m\u001b[0;34m]\u001b[0m\u001b[0;34m,\u001b[0m \u001b[0mpreds_m3_comp\u001b[0m\u001b[0;34m,\u001b[0m \u001b[0mfrcy\u001b[0m\u001b[0;34m)\u001b[0m\u001b[0;34m.\u001b[0m\u001b[0mmean\u001b[0m\u001b[0;34m(\u001b[0m\u001b[0;34m)\u001b[0m\u001b[0;34m\u001b[0m\u001b[0;34m\u001b[0m\u001b[0m\n\u001b[0m\u001b[1;32m     39\u001b[0m \u001b[0mdf\u001b[0m \u001b[0;34m=\u001b[0m \u001b[0mpd\u001b[0m\u001b[0;34m.\u001b[0m\u001b[0mDataFrame\u001b[0m\u001b[0;34m(\u001b[0m\u001b[0;34m{\u001b[0m\u001b[0;34m'idx'\u001b[0m\u001b[0;34m:\u001b[0m \u001b[0mlen\u001b[0m\u001b[0;34m(\u001b[0m\u001b[0msample_sizes\u001b[0m\u001b[0;34m)\u001b[0m\u001b[0;34m+\u001b[0m\u001b[0;36m1\u001b[0m\u001b[0;34m,\u001b[0m \u001b[0;34m'sample'\u001b[0m\u001b[0;34m:\u001b[0m \u001b[0;36m1\u001b[0m\u001b[0;34m,\u001b[0m \u001b[0;34m'owa_m3_m4'\u001b[0m\u001b[0;34m:\u001b[0m \u001b[0;36m0\u001b[0m\u001b[0;34m,\u001b[0m \u001b[0;34m'owa_m3_m3'\u001b[0m\u001b[0;34m:\u001b[0m \u001b[0mowa_m3_m3_comp\u001b[0m\u001b[0;34m}\u001b[0m\u001b[0;34m,\u001b[0m \u001b[0mindex\u001b[0m\u001b[0;34m=\u001b[0m\u001b[0;34m[\u001b[0m\u001b[0;36m0\u001b[0m\u001b[0;34m]\u001b[0m\u001b[0;34m)\u001b[0m\u001b[0;34m\u001b[0m\u001b[0;34m\u001b[0m\u001b[0m\n\u001b[1;32m     40\u001b[0m \u001b[0mprint\u001b[0m\u001b[0;34m(\u001b[0m\u001b[0;34m'Errors:'\u001b[0m\u001b[0;34m)\u001b[0m\u001b[0;34m\u001b[0m\u001b[0;34m\u001b[0m\u001b[0m\n",
      "\u001b[0;32m~/projects/fforma/fforma/fforma.py\u001b[0m in \u001b[0;36mcontribution_to_owa\u001b[0;34m(self, ts_list, ts_val_list, ts_hat_val_list, frcy)\u001b[0m\n\u001b[1;32m     65\u001b[0m             np.array(\n\u001b[1;32m     66\u001b[0m                 \u001b[0;34m[\u001b[0m\u001b[0mself\u001b[0m\u001b[0;34m.\u001b[0m\u001b[0msmape\u001b[0m\u001b[0;34m(\u001b[0m\u001b[0mts_val\u001b[0m\u001b[0;34m,\u001b[0m \u001b[0mpred\u001b[0m\u001b[0;34m)\u001b[0m \u001b[0;32mfor\u001b[0m \u001b[0mpred\u001b[0m \u001b[0;32min\u001b[0m \u001b[0mts_hat_val\u001b[0m\u001b[0;34m]\u001b[0m\u001b[0;34m\u001b[0m\u001b[0;34m\u001b[0m\u001b[0m\n\u001b[0;32m---> 67\u001b[0;31m             ) for ts_val, ts_hat_val in tqdm.tqdm(zip(ts_val_list, ts_hat_val_list))\n\u001b[0m\u001b[1;32m     68\u001b[0m         ])\n\u001b[1;32m     69\u001b[0m \u001b[0;34m\u001b[0m\u001b[0m\n",
      "\u001b[0;32m~/projects/fforma/fforma/fforma.py\u001b[0m in \u001b[0;36m<listcomp>\u001b[0;34m(.0)\u001b[0m\n\u001b[1;32m     65\u001b[0m             np.array(\n\u001b[1;32m     66\u001b[0m                 \u001b[0;34m[\u001b[0m\u001b[0mself\u001b[0m\u001b[0;34m.\u001b[0m\u001b[0msmape\u001b[0m\u001b[0;34m(\u001b[0m\u001b[0mts_val\u001b[0m\u001b[0;34m,\u001b[0m \u001b[0mpred\u001b[0m\u001b[0;34m)\u001b[0m \u001b[0;32mfor\u001b[0m \u001b[0mpred\u001b[0m \u001b[0;32min\u001b[0m \u001b[0mts_hat_val\u001b[0m\u001b[0;34m]\u001b[0m\u001b[0;34m\u001b[0m\u001b[0;34m\u001b[0m\u001b[0m\n\u001b[0;32m---> 67\u001b[0;31m             ) for ts_val, ts_hat_val in tqdm.tqdm(zip(ts_val_list, ts_hat_val_list))\n\u001b[0m\u001b[1;32m     68\u001b[0m         ])\n\u001b[1;32m     69\u001b[0m \u001b[0;34m\u001b[0m\u001b[0m\n",
      "\u001b[0;32m~/projects/fforma/fforma/fforma.py\u001b[0m in \u001b[0;36m<listcomp>\u001b[0;34m(.0)\u001b[0m\n\u001b[1;32m     64\u001b[0m         smape_errors = np.array([\n\u001b[1;32m     65\u001b[0m             np.array(\n\u001b[0;32m---> 66\u001b[0;31m                 \u001b[0;34m[\u001b[0m\u001b[0mself\u001b[0m\u001b[0;34m.\u001b[0m\u001b[0msmape\u001b[0m\u001b[0;34m(\u001b[0m\u001b[0mts_val\u001b[0m\u001b[0;34m,\u001b[0m \u001b[0mpred\u001b[0m\u001b[0;34m)\u001b[0m \u001b[0;32mfor\u001b[0m \u001b[0mpred\u001b[0m \u001b[0;32min\u001b[0m \u001b[0mts_hat_val\u001b[0m\u001b[0;34m]\u001b[0m\u001b[0;34m\u001b[0m\u001b[0;34m\u001b[0m\u001b[0m\n\u001b[0m\u001b[1;32m     67\u001b[0m             ) for ts_val, ts_hat_val in tqdm.tqdm(zip(ts_val_list, ts_hat_val_list))\n\u001b[1;32m     68\u001b[0m         ])\n",
      "\u001b[0;32m~/projects/fforma/fforma/fforma.py\u001b[0m in \u001b[0;36msmape\u001b[0;34m(self, ts, ts_hat)\u001b[0m\n\u001b[1;32m    101\u001b[0m     \u001b[0;32mdef\u001b[0m \u001b[0msmape\u001b[0m\u001b[0;34m(\u001b[0m\u001b[0mself\u001b[0m\u001b[0;34m,\u001b[0m \u001b[0mts\u001b[0m\u001b[0;34m,\u001b[0m \u001b[0mts_hat\u001b[0m\u001b[0;34m)\u001b[0m\u001b[0;34m:\u001b[0m\u001b[0;34m\u001b[0m\u001b[0;34m\u001b[0m\u001b[0m\n\u001b[1;32m    102\u001b[0m         \u001b[0;31m# Needed condition\u001b[0m\u001b[0;34m\u001b[0m\u001b[0;34m\u001b[0m\u001b[0;34m\u001b[0m\u001b[0m\n\u001b[0;32m--> 103\u001b[0;31m         \u001b[0;32massert\u001b[0m \u001b[0mts\u001b[0m\u001b[0;34m.\u001b[0m\u001b[0mshape\u001b[0m \u001b[0;34m==\u001b[0m \u001b[0mts_hat\u001b[0m\u001b[0;34m.\u001b[0m\u001b[0mshape\u001b[0m\u001b[0;34m,\u001b[0m \u001b[0;34m\"ts must have the same size of ts_hat\"\u001b[0m\u001b[0;34m\u001b[0m\u001b[0;34m\u001b[0m\u001b[0m\n\u001b[0m\u001b[1;32m    104\u001b[0m \u001b[0;34m\u001b[0m\u001b[0m\n\u001b[1;32m    105\u001b[0m         \u001b[0mnum\u001b[0m \u001b[0;34m=\u001b[0m \u001b[0mnp\u001b[0m\u001b[0;34m.\u001b[0m\u001b[0mabs\u001b[0m\u001b[0;34m(\u001b[0m\u001b[0mts\u001b[0m\u001b[0;34m-\u001b[0m\u001b[0mts_hat\u001b[0m\u001b[0;34m)\u001b[0m\u001b[0;34m\u001b[0m\u001b[0;34m\u001b[0m\u001b[0m\n",
      "\u001b[0;31mAssertionError\u001b[0m: ts must have the same size of ts_hat"
     ]
    }
   ],
   "source": [
    "owas = []\n",
    "complete_m3 = m3['complete']\n",
    "\n",
    "for idx, sample in enumerate(sample_sizes):\n",
    "    print('\\n \\n')\n",
    "    print(f'========Sample {idx}: {sample}===========')\n",
    "    name_sample = 'sample_' + str(sample)\n",
    "    \n",
    "    print('===========Training on M4===========')\n",
    "    m4_sample = m4[name_sample]\n",
    "    fforma_m4 = FForma(m4_sample['ts'], m4_sample['ts_val'], m4_sample['ts_hat_val'], m4_sample['ts_hat_test'], frcy).train()\n",
    "    \n",
    "    print('===========Training on M3===========')\n",
    "    m3_sample = m3[name_sample]\n",
    "    fforma_m3 = FForma(m3_sample['ts'], m3_sample['ts_val'], m3_sample['ts_hat_val'], m3_sample['ts_hat_test'], frcy).train()\n",
    "    \n",
    "    print('===========Predicting with M4===========')\n",
    "    preds_m3_m4 = fforma_m4.predict(complete_m3['ts'], complete_m3['ts_hat_test'], frcy=frcy)\n",
    "    preds_m3_m4 = [[pred] for pred in preds_m3_m4]\n",
    "    \n",
    "    owa_m3_m4 = fforma_m4.contribution_to_owa(complete_m3['ts'], complete_m3['ts_test'], preds_m3_m4, frcy).mean()\n",
    "    \n",
    "    print('===========Predicting with M3===========')\n",
    "    preds_m3_m3 = fforma_m3.predict(complete_m3['ts'], complete_m3['ts_hat_test'], frcy=frcy)\n",
    "    preds_m3_m3 = [[pred] for pred in preds_m3_m3]\n",
    "    owa_m3_m3 = fforma_m3.contribution_to_owa(complete_m3['ts'], complete_m3['ts_test'], preds_m3_m3, frcy).mean()\n",
    "    \n",
    "    df = pd.DataFrame({'idx': idx, 'sample': sample, 'owa_m3_m4': owa_m3_m4, 'owa_m3_m3': owa_m3_m3}, index=[0]) \n",
    "    print('Errors:')\n",
    "    print(df)\n",
    "    \n",
    "    owas.append(df)"
   ]
  },
  {
   "cell_type": "code",
   "execution_count": 14,
   "metadata": {
    "collapsed": true,
    "jupyter": {
     "outputs_hidden": true
    }
   },
   "outputs": [
    {
     "name": "stdout",
     "output_type": "stream",
     "text": [
      "\n",
      "Complete M3\n"
     ]
    },
    {
     "name": "stderr",
     "output_type": "stream",
     "text": [
      "\n",
      "\n",
      "\n",
      "  0%|          | 0/1428 [00:00<?, ?it/s]\u001b[A\u001b[A\u001b[A\n",
      "\n",
      "\n",
      "  4%|▍         | 63/1428 [00:00<00:02, 623.09it/s]\u001b[A\u001b[A\u001b[A"
     ]
    },
    {
     "name": "stdout",
     "output_type": "stream",
     "text": [
      "Training NAIVE2\n"
     ]
    },
    {
     "name": "stderr",
     "output_type": "stream",
     "text": [
      "\n",
      "\n",
      "\n",
      "  8%|▊         | 116/1428 [00:00<00:02, 590.79it/s]\u001b[A\u001b[A\u001b[A\n",
      "\n",
      "\n",
      " 12%|█▏        | 173/1428 [00:00<00:02, 582.29it/s]\u001b[A\u001b[A\u001b[A\n",
      "\n",
      "\n",
      " 15%|█▌        | 221/1428 [00:00<00:02, 545.26it/s]\u001b[A\u001b[A\u001b[A\n",
      "\n",
      "\n",
      " 20%|██        | 292/1428 [00:00<00:01, 585.34it/s]\u001b[A\u001b[A\u001b[A\n",
      "\n",
      "\n",
      " 25%|██▌       | 357/1428 [00:00<00:01, 601.65it/s]\u001b[A\u001b[A\u001b[A\n",
      "\n",
      "\n",
      " 30%|██▉       | 427/1428 [00:00<00:01, 626.24it/s]\u001b[A\u001b[A\u001b[A\n",
      "\n",
      "\n",
      " 38%|███▊      | 543/1428 [00:00<00:01, 725.73it/s]\u001b[A\u001b[A\u001b[A\n",
      "\n",
      "\n",
      " 46%|████▌     | 651/1428 [00:00<00:00, 802.35it/s]\u001b[A\u001b[A\u001b[A\n",
      "\n",
      "\n",
      " 52%|█████▏    | 736/1428 [00:01<00:00, 699.54it/s]\u001b[A\u001b[A\u001b[A\n",
      "\n",
      "\n",
      " 57%|█████▋    | 812/1428 [00:01<00:00, 646.00it/s]\u001b[A\u001b[A\u001b[A\n",
      "\n",
      "\n",
      " 62%|██████▏   | 882/1428 [00:01<00:00, 610.05it/s]\u001b[A\u001b[A\u001b[A\n",
      "\n",
      "\n",
      " 66%|██████▋   | 947/1428 [00:01<00:00, 575.69it/s]\u001b[A\u001b[A\u001b[A\n",
      "\n",
      "\n",
      " 71%|███████   | 1008/1428 [00:01<00:00, 569.07it/s]\u001b[A\u001b[A\u001b[A\n",
      "\n",
      "\n",
      " 75%|███████▍  | 1068/1428 [00:01<00:00, 558.09it/s]\u001b[A\u001b[A\u001b[A\n",
      "\n",
      "\n",
      " 79%|███████▉  | 1126/1428 [00:01<00:00, 544.75it/s]\u001b[A\u001b[A\u001b[A\n",
      "\n",
      "\n",
      " 83%|████████▎ | 1182/1428 [00:01<00:00, 543.59it/s]\u001b[A\u001b[A\u001b[A\n",
      "\n",
      "\n",
      " 87%|████████▋ | 1238/1428 [00:02<00:00, 548.36it/s]\u001b[A\u001b[A\u001b[A\n",
      "\n",
      "\n",
      " 91%|█████████ | 1299/1428 [00:02<00:00, 564.13it/s]\u001b[A\u001b[A\u001b[A\n",
      "\n",
      "\n",
      " 95%|█████████▍| 1356/1428 [00:02<00:00, 557.15it/s]\u001b[A\u001b[A\u001b[A\n",
      "\n",
      "\n",
      "100%|██████████| 1428/1428 [00:02<00:00, 610.58it/s]\u001b[A\u001b[A\u001b[A\n",
      "\n",
      "\n",
      "\n",
      "1428it [00:00, 62793.85it/s]\n",
      "\n",
      "\n",
      "\n",
      "1428it [00:00, 27631.40it/s]\n",
      "\n",
      "\n",
      "\n",
      "1428it [00:00, 82126.23it/s]\n",
      "\n",
      "\n",
      "\n",
      "1428it [00:00, 29105.60it/s]"
     ]
    },
    {
     "name": "stdout",
     "output_type": "stream",
     "text": [
      "Calculating errors\n",
      "Naive 2 errors\n",
      "Errors:\n",
      "   idx  sample  owa_m3_m4  owa_m3_m3\n",
      "0    6       1          0    0.89748\n"
     ]
    },
    {
     "name": "stderr",
     "output_type": "stream",
     "text": [
      "\n"
     ]
    }
   ],
   "source": [
    "print('\\nComplete M3')\n",
    "#fforma_m3_comp = FForma(complete_m3['ts'], complete_m3['ts_val'], complete_m3['ts_hat_val'], complete_m3['ts_hat_test'], frcy).train()\n",
    "preds_m3_comp = fforma_m3_comp.predict(complete_m3['ts'], complete_m3['ts_hat_test'], frcy=frcy)\n",
    "preds_m3_comp = [[pred] for pred in preds_m3_comp]\n",
    "owa_m3_m3_comp = fforma_m3_comp.contribution_to_owa(complete_m3['ts'], complete_m3['ts_test'], preds_m3_comp, frcy).mean()\n",
    "df = pd.DataFrame({'idx': len(sample_sizes)+1, 'sample': 1, 'owa_m3_m4': 0, 'owa_m3_m3': owa_m3_m3_comp}, index=[0]) \n",
    "print('Errors:')\n",
    "print(df)\n",
    "\n",
    "owas.append(df)"
   ]
  },
  {
   "cell_type": "code",
   "execution_count": 15,
   "metadata": {},
   "outputs": [],
   "source": [
    "owas_df = pd.concat(owas)\n",
    "#owas_df['sample'] = 100*owas_df['sample']"
   ]
  },
  {
   "cell_type": "code",
   "execution_count": 27,
   "metadata": {},
   "outputs": [],
   "source": [
    "full_m3 = owas_df[(owas_df['idx']==6)]['owa_m3_m3'][0]"
   ]
  },
  {
   "cell_type": "code",
   "execution_count": 29,
   "metadata": {},
   "outputs": [
    {
     "data": {
      "text/plain": [
       "0.897479723520485"
      ]
     },
     "execution_count": 29,
     "metadata": {},
     "output_type": "execute_result"
    }
   ],
   "source": [
    "full_m3"
   ]
  },
  {
   "cell_type": "code",
   "execution_count": 30,
   "metadata": {},
   "outputs": [],
   "source": [
    "owas_df_plot = owas_df[owas_df['idx']<6]"
   ]
  },
  {
   "cell_type": "code",
   "execution_count": 36,
   "metadata": {},
   "outputs": [
    {
     "name": "stderr",
     "output_type": "stream",
     "text": [
      "/home/fede/.local/lib/python3.6/site-packages/ipykernel_launcher.py:1: SettingWithCopyWarning: \n",
      "A value is trying to be set on a copy of a slice from a DataFrame.\n",
      "Try using .loc[row_indexer,col_indexer] = value instead\n",
      "\n",
      "See the caveats in the documentation: http://pandas.pydata.org/pandas-docs/stable/user_guide/indexing.html#returning-a-view-versus-a-copy\n",
      "  \"\"\"Entry point for launching an IPython kernel.\n"
     ]
    }
   ],
   "source": [
    "owas_df_plot['idx'] = owas_df_plot['idx'] + 1"
   ]
  },
  {
   "cell_type": "code",
   "execution_count": null,
   "metadata": {},
   "outputs": [
    {
     "data": {
      "text/plain": [
       "<matplotlib.legend.Legend at 0x7fc876a928d0>"
      ]
     },
     "execution_count": 37,
     "metadata": {},
     "output_type": "execute_result"
    }
   ],
   "source": [
    "ax = owas_df_plot.set_index('idx').drop(columns='sample').plot(kind='bar')\n",
    "plt.axhline(full_m3)\n",
    "plt.title('OWA for M3 predictions (monthly) with FFORMA \\n Using M4 and M3 training sets')\n",
    "plt.xlabel('Random samples')\n",
    "plt.legend(['OWA using full M3 to predict M3', 'OWA using 10% of M4 to predict full M3', 'OWA using 10% of M3 to predict fulll M3'], loc='lower center')"
   ]
  },
  {
   "cell_type": "code",
   "execution_count": null,
   "metadata": {},
   "outputs": [],
   "source": []
  }
 ],
 "metadata": {
  "kernelspec": {
   "display_name": "Python 3",
   "language": "python",
   "name": "python3"
  },
  "language_info": {
   "codemirror_mode": {
    "name": "ipython",
    "version": 3
   },
   "file_extension": ".py",
   "mimetype": "text/x-python",
   "name": "python",
   "nbconvert_exporter": "python",
   "pygments_lexer": "ipython3",
   "version": "3.6.7"
  }
 },
 "nbformat": 4,
 "nbformat_minor": 4
}
