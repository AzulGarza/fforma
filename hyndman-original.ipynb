{
 "cells": [
  {
   "cell_type": "code",
   "execution_count": 9,
   "metadata": {},
   "outputs": [],
   "source": [
    "from src.meta_results_r_data import prepare_fforma_data_m3_tourism\n",
    "from src.meta_learner import MetaLearner\n",
    "from src.meta_evaluation import calc_errors_widing\n",
    "\n",
    "from src.utils import FREQ_DICT"
   ]
  },
  {
   "cell_type": "code",
   "execution_count": 2,
   "metadata": {},
   "outputs": [
    {
     "name": "stdout",
     "output_type": "stream",
     "text": [
      "% of missing values, train set\n",
      "x_acf10               7.551487\n",
      "diff1_acf1            7.551487\n",
      "diff1_acf10           7.551487\n",
      "diff2_acf1            7.551487\n",
      "diff2_acf10           8.543097\n",
      "seas_acf1            39.511823\n",
      "arch_lm               9.687262\n",
      "garch_acf             0.076278\n",
      "arch_r2              13.196034\n",
      "garch_r2             13.348589\n",
      "nonlinearity          1.144165\n",
      "x_pacf5               1.144165\n",
      "diff1x_pacf5          1.754386\n",
      "diff2x_pacf5          2.059497\n",
      "seas_pacf            39.511823\n",
      "e_acf10               7.551487\n",
      "seasonal_strength    39.511823\n",
      "peak                 39.511823\n",
      "trough               39.511823\n",
      "hw_alpha             39.511823\n",
      "hw_beta              39.511823\n",
      "hw_gamma             39.511823\n",
      "dtype: float64\n",
      "\n",
      "\n",
      "% of missing values, test set\n",
      "x_acf10               1.754386\n",
      "diff1_acf1            1.754386\n",
      "diff1_acf10           2.059497\n",
      "diff2_acf1            2.059497\n",
      "diff2_acf10           2.212052\n",
      "seas_acf1            39.511823\n",
      "arch_lm               7.551487\n",
      "arch_r2               7.551487\n",
      "garch_r2              7.551487\n",
      "diff2x_pacf5          1.144165\n",
      "seas_pacf            39.511823\n",
      "e_acf10               1.754386\n",
      "seasonal_strength    39.511823\n",
      "peak                 39.511823\n",
      "trough               39.511823\n",
      "hw_alpha             39.511823\n",
      "hw_beta              39.511823\n",
      "hw_gamma             39.511823\n",
      "dtype: float64\n",
      "\n",
      "\n",
      "Replacing with zeros...\n"
     ]
    }
   ],
   "source": [
    "X_train_df, preds_train_df, y_insample_train_df, y_train_df, \\\n",
    "    X_test_df, preds_test_df, y_insample_test_df, y_test_df = prepare_fforma_data_m3_tourism('data', kind='TOURISM')"
   ]
  },
  {
   "cell_type": "code",
   "execution_count": 3,
   "metadata": {},
   "outputs": [],
   "source": [
    "df_seasonality = X_train_df[['unique_id']].copy()\n",
    "df_seasonality['seasonality'] = df_seasonality['unique_id'].apply(lambda x: FREQ_DICT[x[0]])"
   ]
  },
  {
   "cell_type": "code",
   "execution_count": 4,
   "metadata": {},
   "outputs": [],
   "source": [
    "params = {'n_estimators': 10,\n",
    "          'eta': 0.5,\n",
    "          'max_depth': 14,\n",
    "          'subsample': 0.92,\n",
    "          'colsample_bytree': 0.77,\n",
    "          'df_seasonality': df_seasonality}"
   ]
  },
  {
   "cell_type": "code",
   "execution_count": 5,
   "metadata": {},
   "outputs": [
    {
     "name": "stdout",
     "output_type": "stream",
     "text": [
      "Calculating errors...\n",
      "Training...\n",
      "[1]\ttraining's FFORMA-loss: 1.04384\tvalid_1's FFORMA-loss: 1.00339\n",
      "Training until validation scores don't improve for 10 rounds\n",
      "[2]\ttraining's FFORMA-loss: 1.00724\tvalid_1's FFORMA-loss: 0.980701\n",
      "[3]\ttraining's FFORMA-loss: 0.977392\tvalid_1's FFORMA-loss: 0.962166\n",
      "[4]\ttraining's FFORMA-loss: 0.952902\tvalid_1's FFORMA-loss: 0.947014\n",
      "[5]\ttraining's FFORMA-loss: 0.932218\tvalid_1's FFORMA-loss: 0.935089\n",
      "[6]\ttraining's FFORMA-loss: 0.914383\tvalid_1's FFORMA-loss: 0.925017\n",
      "[7]\ttraining's FFORMA-loss: 0.89857\tvalid_1's FFORMA-loss: 0.916474\n",
      "[8]\ttraining's FFORMA-loss: 0.884879\tvalid_1's FFORMA-loss: 0.908917\n",
      "[9]\ttraining's FFORMA-loss: 0.872703\tvalid_1's FFORMA-loss: 0.90365\n",
      "[10]\ttraining's FFORMA-loss: 0.861449\tvalid_1's FFORMA-loss: 0.89849\n",
      "Did not meet early stopping. Best iteration is:\n",
      "[10]\ttraining's FFORMA-loss: 0.861449\tvalid_1's FFORMA-loss: 0.89849\n"
     ]
    }
   ],
   "source": [
    "model = MetaLearner(params).fit(X_train_df, preds_train_df, y_train_df, y_insample_train_df)"
   ]
  },
  {
   "cell_type": "code",
   "execution_count": 6,
   "metadata": {},
   "outputs": [],
   "source": [
    "preds = model.predict(X_test_df, base_model_preds=preds_test_df)"
   ]
  },
  {
   "cell_type": "code",
   "execution_count": 7,
   "metadata": {},
   "outputs": [],
   "source": [
    "preds = preds[['unique_id', 'ds', 'y_hat']].rename(columns={'y_hat': 'fforma'})"
   ]
  },
  {
   "cell_type": "code",
   "execution_count": 10,
   "metadata": {},
   "outputs": [
    {
     "data": {
      "text/plain": [
       "fforma    0.892159\n",
       "dtype: float64"
      ]
     },
     "execution_count": 10,
     "metadata": {},
     "output_type": "execute_result"
    }
   ],
   "source": [
    "calc_errors_widing(preds, y_test_df, y_insample_train_df, df_seasonality, 'y_hat_naive2').mean()"
   ]
  }
 ],
 "metadata": {
  "kernelspec": {
   "display_name": "Python 3",
   "language": "python",
   "name": "python3"
  },
  "language_info": {
   "codemirror_mode": {
    "name": "ipython",
    "version": 3
   },
   "file_extension": ".py",
   "mimetype": "text/x-python",
   "name": "python",
   "nbconvert_exporter": "python",
   "pygments_lexer": "ipython3",
   "version": "3.7.3"
  }
 },
 "nbformat": 4,
 "nbformat_minor": 4
}
