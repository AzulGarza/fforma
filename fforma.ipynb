{
 "cells": [
  {
   "cell_type": "code",
   "execution_count": 2,
   "metadata": {},
   "outputs": [],
   "source": [
    "from fforma import FFORMA\n",
    "from fforma.m4_data import prepare_m4_data, seas_dict\n",
    "import pandas as pd"
   ]
  },
  {
   "cell_type": "code",
   "execution_count": 3,
   "metadata": {},
   "outputs": [],
   "source": [
    "dataset = 'Weekly'\n",
    "validation_periods = seas_dict[dataset]['output_size']\n",
    "seasonality = seas_dict[dataset]['seasonality']"
   ]
  },
  {
   "cell_type": "code",
   "execution_count": 4,
   "metadata": {},
   "outputs": [
    {
     "name": "stdout",
     "output_type": "stream",
     "text": [
      "\n",
      "\n"
     ]
    }
   ],
   "source": [
    "X_train_df, y_train_df, X_test_df, y_test_df = prepare_m4_data(dataset, './m4', 100)"
   ]
  },
  {
   "cell_type": "code",
   "execution_count": 5,
   "metadata": {},
   "outputs": [],
   "source": [
    "# optimal params by hyndman\n",
    "optimal_params = {'n_estimators': 94,\n",
    "                  'eta': 0.58,\n",
    "                  'max_depth': 14,\n",
    "                  'subsample': 0.92,\n",
    "                  'colsample_bytree': 0.77}\n",
    "fforma = FFORMA(params=optimal_params, \n",
    "                h=validation_periods, \n",
    "                seasonality=seasonality, base_models=None,\n",
    "                metric='smape', early_stopping_rounds=10, threads=None, random_seed=1)"
   ]
  },
  {
   "cell_type": "code",
   "execution_count": 6,
   "metadata": {},
   "outputs": [
    {
     "name": "stdout",
     "output_type": "stream",
     "text": [
      "============================= Fitting Models =============================\n",
      "============================ Computing Errors ============================\n",
      "=========================== Computing Features ===========================\n",
      "Training Meta Learner...\n"
     ]
    }
   ],
   "source": [
    "fforma.fit(X_train_df, y_train_df)"
   ]
  },
  {
   "cell_type": "code",
   "execution_count": 7,
   "metadata": {},
   "outputs": [
    {
     "data": {
      "text/html": [
       "<div>\n",
       "<style scoped>\n",
       "    .dataframe tbody tr th:only-of-type {\n",
       "        vertical-align: middle;\n",
       "    }\n",
       "\n",
       "    .dataframe tbody tr th {\n",
       "        vertical-align: top;\n",
       "    }\n",
       "\n",
       "    .dataframe thead th {\n",
       "        text-align: right;\n",
       "    }\n",
       "</style>\n",
       "<table border=\"1\" class=\"dataframe\">\n",
       "  <thead>\n",
       "    <tr style=\"text-align: right;\">\n",
       "      <th></th>\n",
       "      <th>unique_id</th>\n",
       "      <th>ds</th>\n",
       "      <th>Naive2</th>\n",
       "      <th>RandomWalkDrift</th>\n",
       "      <th>SeasonalNaive</th>\n",
       "      <th>x</th>\n",
       "      <th>y_hat</th>\n",
       "    </tr>\n",
       "  </thead>\n",
       "  <tbody>\n",
       "    <tr>\n",
       "      <th>0</th>\n",
       "      <td>W1</td>\n",
       "      <td>2011-10-09</td>\n",
       "      <td>35347.127888</td>\n",
       "      <td>35412.912048</td>\n",
       "      <td>40556.73</td>\n",
       "      <td>Other</td>\n",
       "      <td>35416.454030</td>\n",
       "    </tr>\n",
       "    <tr>\n",
       "      <th>1</th>\n",
       "      <td>W1</td>\n",
       "      <td>2011-10-16</td>\n",
       "      <td>35476.266109</td>\n",
       "      <td>35428.664096</td>\n",
       "      <td>40676.26</td>\n",
       "      <td>Other</td>\n",
       "      <td>35432.277539</td>\n",
       "    </tr>\n",
       "    <tr>\n",
       "      <th>2</th>\n",
       "      <td>W1</td>\n",
       "      <td>2011-10-23</td>\n",
       "      <td>35430.078077</td>\n",
       "      <td>35444.416143</td>\n",
       "      <td>40676.26</td>\n",
       "      <td>Other</td>\n",
       "      <td>35448.018740</td>\n",
       "    </tr>\n",
       "    <tr>\n",
       "      <th>3</th>\n",
       "      <td>W1</td>\n",
       "      <td>2011-10-30</td>\n",
       "      <td>35790.659198</td>\n",
       "      <td>35460.168191</td>\n",
       "      <td>40494.52</td>\n",
       "      <td>Other</td>\n",
       "      <td>35463.634796</td>\n",
       "    </tr>\n",
       "    <tr>\n",
       "      <th>4</th>\n",
       "      <td>W1</td>\n",
       "      <td>2011-11-06</td>\n",
       "      <td>35785.354208</td>\n",
       "      <td>35475.920239</td>\n",
       "      <td>40494.52</td>\n",
       "      <td>Other</td>\n",
       "      <td>35479.375997</td>\n",
       "    </tr>\n",
       "    <tr>\n",
       "      <th>...</th>\n",
       "      <td>...</td>\n",
       "      <td>...</td>\n",
       "      <td>...</td>\n",
       "      <td>...</td>\n",
       "      <td>...</td>\n",
       "      <td>...</td>\n",
       "      <td>...</td>\n",
       "    </tr>\n",
       "    <tr>\n",
       "      <th>1295</th>\n",
       "      <td>W99</td>\n",
       "      <td>2013-12-01</td>\n",
       "      <td>15112.946465</td>\n",
       "      <td>15156.913019</td>\n",
       "      <td>16730.50</td>\n",
       "      <td>Finance</td>\n",
       "      <td>15157.824367</td>\n",
       "    </tr>\n",
       "    <tr>\n",
       "      <th>1296</th>\n",
       "      <td>W99</td>\n",
       "      <td>2013-12-08</td>\n",
       "      <td>15071.388483</td>\n",
       "      <td>15163.122244</td>\n",
       "      <td>16566.63</td>\n",
       "      <td>Finance</td>\n",
       "      <td>15163.935089</td>\n",
       "    </tr>\n",
       "    <tr>\n",
       "      <th>1297</th>\n",
       "      <td>W99</td>\n",
       "      <td>2013-12-15</td>\n",
       "      <td>15066.769868</td>\n",
       "      <td>15169.331468</td>\n",
       "      <td>16338.69</td>\n",
       "      <td>Finance</td>\n",
       "      <td>15170.008705</td>\n",
       "    </tr>\n",
       "    <tr>\n",
       "      <th>1298</th>\n",
       "      <td>W99</td>\n",
       "      <td>2013-12-22</td>\n",
       "      <td>15095.895844</td>\n",
       "      <td>15175.540692</td>\n",
       "      <td>16401.59</td>\n",
       "      <td>Finance</td>\n",
       "      <td>15176.250762</td>\n",
       "    </tr>\n",
       "    <tr>\n",
       "      <th>1299</th>\n",
       "      <td>W99</td>\n",
       "      <td>2013-12-29</td>\n",
       "      <td>15099.497976</td>\n",
       "      <td>15181.749917</td>\n",
       "      <td>16333.03</td>\n",
       "      <td>Finance</td>\n",
       "      <td>15182.416684</td>\n",
       "    </tr>\n",
       "  </tbody>\n",
       "</table>\n",
       "<p>1300 rows × 7 columns</p>\n",
       "</div>"
      ],
      "text/plain": [
       "     unique_id         ds        Naive2  RandomWalkDrift  SeasonalNaive  \\\n",
       "0           W1 2011-10-09  35347.127888     35412.912048       40556.73   \n",
       "1           W1 2011-10-16  35476.266109     35428.664096       40676.26   \n",
       "2           W1 2011-10-23  35430.078077     35444.416143       40676.26   \n",
       "3           W1 2011-10-30  35790.659198     35460.168191       40494.52   \n",
       "4           W1 2011-11-06  35785.354208     35475.920239       40494.52   \n",
       "...        ...        ...           ...              ...            ...   \n",
       "1295       W99 2013-12-01  15112.946465     15156.913019       16730.50   \n",
       "1296       W99 2013-12-08  15071.388483     15163.122244       16566.63   \n",
       "1297       W99 2013-12-15  15066.769868     15169.331468       16338.69   \n",
       "1298       W99 2013-12-22  15095.895844     15175.540692       16401.59   \n",
       "1299       W99 2013-12-29  15099.497976     15181.749917       16333.03   \n",
       "\n",
       "            x         y_hat  \n",
       "0       Other  35416.454030  \n",
       "1       Other  35432.277539  \n",
       "2       Other  35448.018740  \n",
       "3       Other  35463.634796  \n",
       "4       Other  35479.375997  \n",
       "...       ...           ...  \n",
       "1295  Finance  15157.824367  \n",
       "1296  Finance  15163.935089  \n",
       "1297  Finance  15170.008705  \n",
       "1298  Finance  15176.250762  \n",
       "1299  Finance  15182.416684  \n",
       "\n",
       "[1300 rows x 7 columns]"
      ]
     },
     "execution_count": 7,
     "metadata": {},
     "output_type": "execute_result"
    }
   ],
   "source": [
    "fforma.predict(X_test_df)"
   ]
  },
  {
   "cell_type": "code",
   "execution_count": null,
   "metadata": {},
   "outputs": [],
   "source": []
  }
 ],
 "metadata": {
  "kernelspec": {
   "display_name": "Python 3",
   "language": "python",
   "name": "python3"
  },
  "language_info": {
   "codemirror_mode": {
    "name": "ipython",
    "version": 3
   },
   "file_extension": ".py",
   "mimetype": "text/x-python",
   "name": "python",
   "nbconvert_exporter": "python",
   "pygments_lexer": "ipython3",
   "version": "3.7.3"
  }
 },
 "nbformat": 4,
 "nbformat_minor": 2
}
