{
 "cells": [
  {
   "cell_type": "code",
   "execution_count": 97,
   "metadata": {},
   "outputs": [
    {
     "name": "stdout",
     "output_type": "stream",
     "text": [
      "The autoreload extension is already loaded. To reload it, use:\n",
      "  %reload_ext autoreload\n"
     ]
    }
   ],
   "source": [
    "import pandas as pd\n",
    "\n",
    "from ESRNN.m4_data import prepare_m4_data, seas_dict\n",
    "from ESRNN.utils_evaluation import evaluate_prediction_owa\n",
    "\n",
    "from fforma import FForma\n",
    "\n",
    "from functools import partial\n",
    "import multiprocessing as mp\n",
    "import glob\n",
    "%load_ext autoreload\n",
    "%autoreload 2"
   ]
  },
  {
   "cell_type": "code",
   "execution_count": 83,
   "metadata": {},
   "outputs": [],
   "source": [
    "train_errors = pd.read_csv('R/data/errrors-fforma.csv').set_index('unique_id').sort_index()\n",
    "train_feats = pd.read_csv('R/data/feats-fforma.csv').set_index('unique_id').sort_index()"
   ]
  },
  {
   "cell_type": "code",
   "execution_count": 86,
   "metadata": {},
   "outputs": [],
   "source": [
    "py_feats = [pd.read_csv(file) for file in glob.glob('*features.csv')]\n",
    "py_feats = pd.concat(py_feats, sort=True).fillna(0)\n",
    "py_feats = py_feats[py_feats['unique_id'].isin(train_errors.index)].set_index('unique_id')"
   ]
  },
  {
   "cell_type": "code",
   "execution_count": 87,
   "metadata": {},
   "outputs": [
    {
     "name": "stdout",
     "output_type": "stream",
     "text": [
      "Preparing training phase\n",
      "[0]\ttrain-FFORMA-loss:0.940714\teval-FFORMA-loss:0.93774\n",
      "Multiple eval metrics have been passed: 'eval-FFORMA-loss' will be used for early stopping.\n",
      "\n",
      "Will train until eval-FFORMA-loss hasn't improved in 10 rounds.\n",
      "[1]\ttrain-FFORMA-loss:0.901441\teval-FFORMA-loss:0.89912\n",
      "[2]\ttrain-FFORMA-loss:0.868957\teval-FFORMA-loss:0.867473\n",
      "[3]\ttrain-FFORMA-loss:0.844261\teval-FFORMA-loss:0.843455\n",
      "[4]\ttrain-FFORMA-loss:0.824777\teval-FFORMA-loss:0.824395\n",
      "[5]\ttrain-FFORMA-loss:0.809989\teval-FFORMA-loss:0.809932\n",
      "[6]\ttrain-FFORMA-loss:0.798918\teval-FFORMA-loss:0.799336\n",
      "[7]\ttrain-FFORMA-loss:0.789666\teval-FFORMA-loss:0.79047\n",
      "[8]\ttrain-FFORMA-loss:0.782122\teval-FFORMA-loss:0.783202\n",
      "[9]\ttrain-FFORMA-loss:0.77581\teval-FFORMA-loss:0.777168\n",
      "[10]\ttrain-FFORMA-loss:0.770999\teval-FFORMA-loss:0.772733\n",
      "[11]\ttrain-FFORMA-loss:0.766912\teval-FFORMA-loss:0.769032\n",
      "[12]\ttrain-FFORMA-loss:0.763428\teval-FFORMA-loss:0.765869\n",
      "[13]\ttrain-FFORMA-loss:0.760473\teval-FFORMA-loss:0.763249\n",
      "[14]\ttrain-FFORMA-loss:0.757996\teval-FFORMA-loss:0.761194\n",
      "[15]\ttrain-FFORMA-loss:0.755728\teval-FFORMA-loss:0.759378\n",
      "[16]\ttrain-FFORMA-loss:0.753858\teval-FFORMA-loss:0.757823\n",
      "[17]\ttrain-FFORMA-loss:0.752075\teval-FFORMA-loss:0.756452\n",
      "[18]\ttrain-FFORMA-loss:0.750415\teval-FFORMA-loss:0.755161\n",
      "[19]\ttrain-FFORMA-loss:0.749005\teval-FFORMA-loss:0.754101\n",
      "[20]\ttrain-FFORMA-loss:0.747624\teval-FFORMA-loss:0.753032\n",
      "[21]\ttrain-FFORMA-loss:0.746467\teval-FFORMA-loss:0.752155\n",
      "[22]\ttrain-FFORMA-loss:0.745407\teval-FFORMA-loss:0.751444\n",
      "[23]\ttrain-FFORMA-loss:0.744466\teval-FFORMA-loss:0.750772\n",
      "[24]\ttrain-FFORMA-loss:0.743561\teval-FFORMA-loss:0.750184\n",
      "[25]\ttrain-FFORMA-loss:0.742766\teval-FFORMA-loss:0.749734\n",
      "[26]\ttrain-FFORMA-loss:0.741926\teval-FFORMA-loss:0.749188\n",
      "[27]\ttrain-FFORMA-loss:0.741207\teval-FFORMA-loss:0.748813\n",
      "[28]\ttrain-FFORMA-loss:0.740491\teval-FFORMA-loss:0.748407\n",
      "[29]\ttrain-FFORMA-loss:0.739846\teval-FFORMA-loss:0.74803\n",
      "[30]\ttrain-FFORMA-loss:0.739255\teval-FFORMA-loss:0.747762\n",
      "[31]\ttrain-FFORMA-loss:0.738637\teval-FFORMA-loss:0.747408\n",
      "[32]\ttrain-FFORMA-loss:0.738072\teval-FFORMA-loss:0.747207\n",
      "[33]\ttrain-FFORMA-loss:0.737529\teval-FFORMA-loss:0.746989\n",
      "[34]\ttrain-FFORMA-loss:0.736982\teval-FFORMA-loss:0.746815\n",
      "[35]\ttrain-FFORMA-loss:0.73647\teval-FFORMA-loss:0.74666\n",
      "[36]\ttrain-FFORMA-loss:0.735973\teval-FFORMA-loss:0.746471\n",
      "[37]\ttrain-FFORMA-loss:0.735478\teval-FFORMA-loss:0.746327\n",
      "[38]\ttrain-FFORMA-loss:0.735014\teval-FFORMA-loss:0.746164\n",
      "[39]\ttrain-FFORMA-loss:0.73458\teval-FFORMA-loss:0.746002\n",
      "[40]\ttrain-FFORMA-loss:0.734131\teval-FFORMA-loss:0.745904\n",
      "[41]\ttrain-FFORMA-loss:0.733677\teval-FFORMA-loss:0.745782\n",
      "[42]\ttrain-FFORMA-loss:0.733239\teval-FFORMA-loss:0.745672\n",
      "[43]\ttrain-FFORMA-loss:0.732803\teval-FFORMA-loss:0.745517\n",
      "[44]\ttrain-FFORMA-loss:0.732369\teval-FFORMA-loss:0.74538\n",
      "[45]\ttrain-FFORMA-loss:0.731923\teval-FFORMA-loss:0.745269\n",
      "[46]\ttrain-FFORMA-loss:0.731464\teval-FFORMA-loss:0.745129\n",
      "[47]\ttrain-FFORMA-loss:0.731042\teval-FFORMA-loss:0.744954\n",
      "[48]\ttrain-FFORMA-loss:0.730646\teval-FFORMA-loss:0.74483\n",
      "[49]\ttrain-FFORMA-loss:0.730262\teval-FFORMA-loss:0.744747\n",
      "[50]\ttrain-FFORMA-loss:0.729883\teval-FFORMA-loss:0.744671\n",
      "[51]\ttrain-FFORMA-loss:0.72952\teval-FFORMA-loss:0.744663\n",
      "[52]\ttrain-FFORMA-loss:0.729149\teval-FFORMA-loss:0.74466\n",
      "[53]\ttrain-FFORMA-loss:0.728788\teval-FFORMA-loss:0.744597\n",
      "[54]\ttrain-FFORMA-loss:0.728405\teval-FFORMA-loss:0.744567\n",
      "[55]\ttrain-FFORMA-loss:0.728046\teval-FFORMA-loss:0.744536\n",
      "[56]\ttrain-FFORMA-loss:0.727685\teval-FFORMA-loss:0.744508\n",
      "[57]\ttrain-FFORMA-loss:0.727336\teval-FFORMA-loss:0.744466\n",
      "[58]\ttrain-FFORMA-loss:0.72699\teval-FFORMA-loss:0.744408\n",
      "[59]\ttrain-FFORMA-loss:0.726639\teval-FFORMA-loss:0.74437\n",
      "[60]\ttrain-FFORMA-loss:0.726279\teval-FFORMA-loss:0.744309\n",
      "[61]\ttrain-FFORMA-loss:0.725941\teval-FFORMA-loss:0.744261\n",
      "[62]\ttrain-FFORMA-loss:0.72562\teval-FFORMA-loss:0.74422\n",
      "[63]\ttrain-FFORMA-loss:0.725274\teval-FFORMA-loss:0.744193\n",
      "[64]\ttrain-FFORMA-loss:0.724946\teval-FFORMA-loss:0.74412\n",
      "[65]\ttrain-FFORMA-loss:0.724598\teval-FFORMA-loss:0.744036\n",
      "[66]\ttrain-FFORMA-loss:0.724273\teval-FFORMA-loss:0.743976\n",
      "[67]\ttrain-FFORMA-loss:0.723981\teval-FFORMA-loss:0.743997\n",
      "[68]\ttrain-FFORMA-loss:0.723649\teval-FFORMA-loss:0.743955\n",
      "[69]\ttrain-FFORMA-loss:0.723347\teval-FFORMA-loss:0.743897\n",
      "[70]\ttrain-FFORMA-loss:0.723034\teval-FFORMA-loss:0.743869\n",
      "[71]\ttrain-FFORMA-loss:0.722736\teval-FFORMA-loss:0.743843\n",
      "[72]\ttrain-FFORMA-loss:0.722404\teval-FFORMA-loss:0.743793\n",
      "[73]\ttrain-FFORMA-loss:0.722102\teval-FFORMA-loss:0.743764\n",
      "[74]\ttrain-FFORMA-loss:0.721785\teval-FFORMA-loss:0.743738\n",
      "[75]\ttrain-FFORMA-loss:0.721466\teval-FFORMA-loss:0.743735\n",
      "[76]\ttrain-FFORMA-loss:0.721154\teval-FFORMA-loss:0.743752\n",
      "[77]\ttrain-FFORMA-loss:0.720877\teval-FFORMA-loss:0.743721\n",
      "[78]\ttrain-FFORMA-loss:0.720575\teval-FFORMA-loss:0.743698\n",
      "[79]\ttrain-FFORMA-loss:0.720301\teval-FFORMA-loss:0.743661\n",
      "[80]\ttrain-FFORMA-loss:0.72002\teval-FFORMA-loss:0.743642\n",
      "[81]\ttrain-FFORMA-loss:0.719754\teval-FFORMA-loss:0.743619\n",
      "[82]\ttrain-FFORMA-loss:0.719488\teval-FFORMA-loss:0.743565\n",
      "[83]\ttrain-FFORMA-loss:0.719213\teval-FFORMA-loss:0.743598\n",
      "[84]\ttrain-FFORMA-loss:0.718945\teval-FFORMA-loss:0.743596\n",
      "[85]\ttrain-FFORMA-loss:0.718664\teval-FFORMA-loss:0.743548\n",
      "[86]\ttrain-FFORMA-loss:0.71841\teval-FFORMA-loss:0.74353\n",
      "[87]\ttrain-FFORMA-loss:0.718126\teval-FFORMA-loss:0.743531\n",
      "[88]\ttrain-FFORMA-loss:0.717868\teval-FFORMA-loss:0.743531\n",
      "[89]\ttrain-FFORMA-loss:0.717593\teval-FFORMA-loss:0.743508\n",
      "[90]\ttrain-FFORMA-loss:0.717312\teval-FFORMA-loss:0.743497\n",
      "[91]\ttrain-FFORMA-loss:0.717063\teval-FFORMA-loss:0.743494\n",
      "[92]\ttrain-FFORMA-loss:0.716798\teval-FFORMA-loss:0.743453\n",
      "[93]\ttrain-FFORMA-loss:0.716534\teval-FFORMA-loss:0.743451\n"
     ]
    }
   ],
   "source": [
    "model = FForma(max_evals=10).train(train_errors, py_feats)"
   ]
  },
  {
   "cell_type": "code",
   "execution_count": 88,
   "metadata": {},
   "outputs": [],
   "source": [
    "feats = pd.read_csv('R/data/pred-feats-fforma.csv').set_index('unique_id').sort_index()\n",
    "preds = pd.read_csv('R/data/preds-fforma.csv').set_index(['unique_id', 'ds']).sort_index()"
   ]
  },
  {
   "cell_type": "code",
   "execution_count": 90,
   "metadata": {},
   "outputs": [],
   "source": [
    "fforma_preds = model.predict(preds, py_feats).reset_index()"
   ]
  },
  {
   "cell_type": "code",
   "execution_count": 91,
   "metadata": {},
   "outputs": [],
   "source": [
    "fforma_preds.to_csv('preds-fforma-py-feats.csv')"
   ]
  },
  {
   "cell_type": "code",
   "execution_count": 93,
   "metadata": {},
   "outputs": [],
   "source": [
    "def evaluate_fforma(dataset_name, fforma_df, directory, num_obs):\n",
    "    _, y_train_df, X_test_df, y_test_df = prepare_m4_data(dataset_name=dataset_name,\n",
    "                                                          directory=directory,\n",
    "                                                          num_obs=num_obs)\n",
    "    \n",
    "    y_test_fforma = fforma_preds[fforma_df['unique_id'].isin(y_test_df['unique_id'].unique())]\n",
    "    y_test_fforma = y_test_fforma.rename(columns={'fforma_prediction': 'y_hat'})\n",
    "    y_test_fforma = y_test_fforma.filter(items=['unique_id', 'ds', 'y_hat'])\n",
    "    \n",
    "    seasonality = seas_dict[dataset_name]['seasonality']\n",
    "    owa, mase, smape = evaluate_prediction_owa(y_test_fforma, y_train_df, X_test_df, y_test_df, seasonality)\n",
    "    \n",
    "    return dataset_name, owa, mase, smape"
   ]
  },
  {
   "cell_type": "code",
   "execution_count": 94,
   "metadata": {},
   "outputs": [],
   "source": [
    "evaluate_fforma_p = partial(evaluate_fforma, fforma_df=fforma_preds, directory='./data', num_obs=100000)"
   ]
  },
  {
   "cell_type": "code",
   "execution_count": 95,
   "metadata": {},
   "outputs": [
    {
     "name": "stdout",
     "output_type": "stream",
     "text": [
      "\n",
      "\n",
      "\n",
      "\n",
      "\n",
      "\n",
      "\n",
      "\n",
      "\n",
      "\n",
      "\n",
      "\n",
      "===============  Model evaluation  ==============\n",
      "OWA: 0.683 \n",
      "SMAPE: 14.098 \n",
      "MASE: 1.436 \n",
      "===============  Model evaluation  ==============\n",
      "OWA: 0.973 \n",
      "SMAPE: 8.432 \n",
      "MASE: 0.532 \n",
      "===============  Model evaluation  ==============\n",
      "OWA: 0.834 \n",
      "SMAPE: 13.597 \n",
      "MASE: 3.118 \n",
      "===============  Model evaluation  ==============\n",
      "OWA: 1.0 \n",
      "SMAPE: 3.084 \n",
      "MASE: 1.152 \n",
      "===============  Model evaluation  ==============\n",
      "OWA: 0.875 \n",
      "SMAPE: 10.022 \n",
      "MASE: 1.151 \n",
      "===============  Model evaluation  ==============\n",
      "OWA: 0.903 \n",
      "SMAPE: 12.865 \n",
      "MASE: 0.971 \n"
     ]
    }
   ],
   "source": [
    "with mp.Pool() as pool:\n",
    "    eval_fforma = pool.map(evaluate_fforma_p, seas_dict.keys())"
   ]
  },
  {
   "cell_type": "code",
   "execution_count": 96,
   "metadata": {},
   "outputs": [
    {
     "data": {
      "text/plain": [
       "[('Hourly', 0.683287865587445, 1.436254875847373, 14.097771597640307),\n",
       " ('Daily', 0.9995168346482247, 1.1517943107085338, 3.084400330286038),\n",
       " ('Weekly', 0.973069447353054, 0.5324489269438113, 8.432148891940633),\n",
       " ('Monthly', 0.9025758694192698, 0.9714008898874792, 12.865084663745513),\n",
       " ('Quarterly', 0.8747380566949765, 1.1511082378244113, 10.022329802619481),\n",
       " ('Yearly', 0.8338891637472919, 3.117534971696027, 13.597166736220867)]"
      ]
     },
     "execution_count": 96,
     "metadata": {},
     "output_type": "execute_result"
    }
   ],
   "source": [
    "eval_fforma"
   ]
  },
  {
   "cell_type": "code",
   "execution_count": null,
   "metadata": {},
   "outputs": [],
   "source": []
  }
 ],
 "metadata": {
  "kernelspec": {
   "display_name": "Python 3",
   "language": "python",
   "name": "python3"
  },
  "language_info": {
   "codemirror_mode": {
    "name": "ipython",
    "version": 3
   },
   "file_extension": ".py",
   "mimetype": "text/x-python",
   "name": "python",
   "nbconvert_exporter": "python",
   "pygments_lexer": "ipython3",
   "version": "3.7.3"
  }
 },
 "nbformat": 4,
 "nbformat_minor": 2
}
