{
 "cells": [
  {
   "cell_type": "code",
   "execution_count": 1,
   "metadata": {},
   "outputs": [],
   "source": [
    "from fforma.metrics import WeightedPinballLoss\n",
    "from fforma.meta_learner import MetaLearnerNN\n",
    "from fforma.meta_results_r_data import prepare_fforma_data\n",
    "\n",
    "from ESRNN.m4_data import prepare_m4_data, seas_dict\n",
    "from ESRNN.utils_evaluation import evaluate_prediction_owa\n",
    "\n",
    "from fforma.utils import (\n",
    "    FactorQuantileRegressionAveraging,\n",
    "    LassoQuantileRegressionAveraging,\n",
    "    evaluate_forecasts,\n",
    "    freqs\n",
    ")\n",
    "\n",
    "import pandas as pd\n",
    "import itertools\n",
    "import numpy as np\n",
    "import matplotlib.pyplot as plt\n",
    "from fforma import FFORMA"
   ]
  },
  {
   "cell_type": "code",
   "execution_count": 2,
   "metadata": {},
   "outputs": [],
   "source": [
    "X_train_df, preds_train_df, y_train_df, X_test_df, preds_test_df = prepare_fforma_data('data/hyndman_data',\n",
    "                                                                                        dataset_name='Hourly')\n",
    "#dataset_name=None for all data"
   ]
  },
  {
   "cell_type": "code",
   "execution_count": 3,
   "metadata": {},
   "outputs": [],
   "source": [
    "X_train_df2, preds_train_df2, y_train_df2, X_test_df2, preds_test_df2 = prepare_fforma_data('data/hyndman_data',\n",
    "                                                                                        dataset_name='Daily')\n",
    "#dataset_name=None for all data"
   ]
  },
  {
   "cell_type": "code",
   "execution_count": 4,
   "metadata": {},
   "outputs": [],
   "source": [
    "X_train_df = X_train_df.append(X_train_df2).reset_index(drop=True)\n",
    "preds_train_df = preds_train_df.append(preds_train_df2).reset_index(drop=True)\n",
    "y_train_df = y_train_df.append(y_train_df2).reset_index(drop=True)\n",
    "X_test_df = X_test_df.append(X_test_df2).reset_index(drop=True)\n",
    "preds_test_df = preds_test_df.append(preds_test_df2).reset_index(drop=True)"
   ]
  },
  {
   "cell_type": "code",
   "execution_count": 5,
   "metadata": {},
   "outputs": [],
   "source": [
    "# def long_to_horizontal(long_df):\n",
    "#     horizontal_df = pd.DataFrame(columns=long_df.columns)\n",
    "#     cols_to_parse = list(set(long_df.columns)-set(['unique_id']))\n",
    "#     long_df = long_df.sort_values(['unique_id','ds']).reset_index(drop=True)\n",
    "#     unique_ids = long_df['unique_id'].unique()\n",
    "#     n_series = len(unique_ids)\n",
    "#     max_len = long_df.groupby('unique_id')['ds'].count().max()\n",
    "    \n",
    "#     dict_df = {'unique_id':unique_ids,\n",
    "#                'ds':list(range(1, max_len+1))}\n",
    "#     padding_dict = list(itertools.product(*list(dict_df.values())))\n",
    "#     padding_dict = pd.DataFrame(padding_dict, columns=list(dict_df.keys()))\n",
    "#     df_padded = padding_dict.merge(long_df, on=['unique_id','ds'], how='outer')\n",
    "#     df_padded = df_padded.sort_values(['unique_id','ds']).reset_index(drop=True)\n",
    "    \n",
    "#     for col in cols_to_parse:\n",
    "#         values = df_padded[col].values\n",
    "#         values = values.reshape((n_series, max_len))\n",
    "#         values = values.tolist()\n",
    "#         horizontal_df[col] = values\n",
    "\n",
    "#     horizontal_df['unique_id'] = unique_ids\n",
    "        \n",
    "#     return horizontal_df"
   ]
  },
  {
   "cell_type": "code",
   "execution_count": 6,
   "metadata": {},
   "outputs": [],
   "source": [
    "# ver = long_to_horizontal(preds_train_df)"
   ]
  },
  {
   "cell_type": "code",
   "execution_count": 7,
   "metadata": {},
   "outputs": [],
   "source": [
    "# def wide_to_long(df, lst_cols, fill_value='', preserve_index=False):\n",
    "#     # make sure `lst_cols` is list-alike\n",
    "#     if (lst_cols is not None\n",
    "#         and len(lst_cols) > 0\n",
    "#         and not isinstance(lst_cols, (list, tuple, np.ndarray, pd.Series))):\n",
    "#         lst_cols = [lst_cols]\n",
    "#     # all columns except `lst_cols`\n",
    "#     idx_cols = df.columns.difference(lst_cols)\n",
    "#     # calculate lengths of lists\n",
    "#     lens = df[lst_cols[0]].str.len()\n",
    "#     # preserve original index values    \n",
    "#     idx = np.repeat(df.index.values, lens)\n",
    "#     # create \"exploded\" DF\n",
    "#     res = (pd.DataFrame({\n",
    "#                 col:np.repeat(df[col].values, lens)\n",
    "#                 for col in idx_cols},\n",
    "#                 index=idx)\n",
    "#              .assign(**{col:np.concatenate(df.loc[lens>0, col].values)\n",
    "#                             for col in lst_cols}))\n",
    "#     # append those rows that have empty lists\n",
    "#     if (lens == 0).any():\n",
    "#         # at least one list in cells is empty\n",
    "#         res = (res.append(df.loc[lens==0, idx_cols], sort=False)\n",
    "#                   .fillna(fill_value))\n",
    "#     # revert the original index order\n",
    "#     res = res.sort_index()\n",
    "#     # reset index if requested\n",
    "#     if not preserve_index:        \n",
    "#         res = res.reset_index(drop=True)\n",
    "#     return res"
   ]
  },
  {
   "cell_type": "code",
   "execution_count": 8,
   "metadata": {},
   "outputs": [],
   "source": [
    "# vasis_names = ['ds','auto_arima_forec','ets_forec','nnetar_forec',\n",
    "#          'tbats_forec','stlm_ar_forec','rw_drift_forec',\n",
    "#          'theta_forec', 'naive_forec', 'snaive_forec']"
   ]
  },
  {
   "cell_type": "code",
   "execution_count": 9,
   "metadata": {},
   "outputs": [],
   "source": [
    "# explode(ver,vasis_names)"
   ]
  },
  {
   "cell_type": "code",
   "execution_count": 10,
   "metadata": {},
   "outputs": [
    {
     "data": {
      "text/plain": [
       "array(['H1', 'H2', 'H3', ..., 'D4225', 'D4226', 'D4227'], dtype=object)"
      ]
     },
     "execution_count": 10,
     "metadata": {},
     "output_type": "execute_result"
    }
   ],
   "source": [
    "unique_ids = X_train_df['unique_id'].unique()\n",
    "unique_ids"
   ]
  },
  {
   "cell_type": "code",
   "execution_count": 11,
   "metadata": {},
   "outputs": [
    {
     "name": "stdout",
     "output_type": "stream",
     "text": [
      "\n",
      "\n",
      "\n",
      "\n"
     ]
    }
   ],
   "source": [
    "dataset_name = 'Hourly'\n",
    "directory = './data/'\n",
    "\n",
    "_, _, _, y_test_df = prepare_m4_data(dataset_name='Hourly',\n",
    "                                                      directory=directory,\n",
    "                                                      num_obs=100_000)\n",
    "_, _, _, y_test_df2 = prepare_m4_data(dataset_name='Daily',\n",
    "                                                      directory=directory,\n",
    "                                                      num_obs=100_000)"
   ]
  },
  {
   "cell_type": "code",
   "execution_count": 12,
   "metadata": {},
   "outputs": [],
   "source": [
    "y_test_df = y_test_df.append(y_test_df2)\n",
    "y_test_df = y_test_df[y_test_df['unique_id'].isin(unique_ids)]\n",
    "y_test_df = y_test_df.reset_index(drop=True)"
   ]
  },
  {
   "cell_type": "code",
   "execution_count": 13,
   "metadata": {},
   "outputs": [],
   "source": [
    "y_test_df['ds'] = y_test_df[['unique_id','ds']].groupby('unique_id').cumcount()+1 "
   ]
  },
  {
   "cell_type": "code",
   "execution_count": 14,
   "metadata": {},
   "outputs": [],
   "source": [
    "nn_params = {#'layers': [100, 100],\n",
    "             'layers': [200, 100, 50, 25, 10],\n",
    "             'dropout': 0.1,\n",
    "             'epochs': 2,\n",
    "             'batch_size': 8,\n",
    "             'learning_rate': 0.001,\n",
    "             'gradient_eps': 1e-8,\n",
    "             'weight_decay': 0,\n",
    "             'lr_scheduler_step_size': 200,\n",
    "             'lr_decay': 0.1,\n",
    "             'use_softmax':True,\n",
    "             'loss_function': WeightedPinballLoss(0.20)}"
   ]
  },
  {
   "cell_type": "code",
   "execution_count": 15,
   "metadata": {},
   "outputs": [],
   "source": [
    "model = MetaLearnerNN(nn_params)"
   ]
  },
  {
   "cell_type": "code",
   "execution_count": 16,
   "metadata": {},
   "outputs": [
    {
     "name": "stdout",
     "output_type": "stream",
     "text": [
      "========= Epoch 0 finished =========\n",
      "Training time: 2.71227\n",
      "Training loss: 95.42896\n",
      "========= Epoch 1 finished =========\n",
      "Training time: 2.6564\n",
      "Training loss: 88.02976\n"
     ]
    },
    {
     "data": {
      "text/plain": [
       "<fforma.meta_learner.MetaLearnerNN at 0x7fca08b0a908>"
      ]
     },
     "execution_count": 16,
     "metadata": {},
     "output_type": "execute_result"
    }
   ],
   "source": [
    "model.fit(X_train_df, preds_train_df, y_train_df)"
   ]
  },
  {
   "cell_type": "code",
   "execution_count": 17,
   "metadata": {},
   "outputs": [],
   "source": [
    "# ver = model.pad_long_df(preds_test_df)\n",
    "y_hat = model.predict(X_test_df, preds_test_df)"
   ]
  },
  {
   "cell_type": "code",
   "execution_count": 22,
   "metadata": {},
   "outputs": [
    {
     "data": {
      "text/plain": [
       "79050"
      ]
     },
     "execution_count": 22,
     "metadata": {},
     "output_type": "execute_result"
    }
   ],
   "source": [
    "len(y_hat)"
   ]
  },
  {
   "cell_type": "code",
   "execution_count": 18,
   "metadata": {},
   "outputs": [],
   "source": [
    "fforma = FFORMA(meta_learner_params=nn_params,\n",
    "                meta_learner=MetaLearnerNN,\n",
    "                metric='owa',\n",
    "                random_seed=1)"
   ]
  },
  {
   "cell_type": "code",
   "execution_count": 19,
   "metadata": {},
   "outputs": [
    {
     "name": "stdout",
     "output_type": "stream",
     "text": [
      "========= Epoch 0 finished =========\n",
      "Training time: 2.76271\n",
      "Training loss: 95.42896\n",
      "========= Epoch 1 finished =========\n",
      "Training time: 2.79917\n",
      "Training loss: 88.02976\n"
     ]
    },
    {
     "data": {
      "text/plain": [
       "<fforma.fforma.FFORMA at 0x7fca294d5710>"
      ]
     },
     "execution_count": 19,
     "metadata": {},
     "output_type": "execute_result"
    }
   ],
   "source": [
    "fforma.fit(X_train_df, preds_train_df, y_train_df)"
   ]
  },
  {
   "cell_type": "code",
   "execution_count": 21,
   "metadata": {},
   "outputs": [
    {
     "data": {
      "text/plain": [
       "79036"
      ]
     },
     "execution_count": 21,
     "metadata": {},
     "output_type": "execute_result"
    }
   ],
   "source": [
    "len(y_test_df)"
   ]
  },
  {
   "cell_type": "code",
   "execution_count": 23,
   "metadata": {},
   "outputs": [
    {
     "data": {
      "text/plain": [
       "4640"
      ]
     },
     "execution_count": 23,
     "metadata": {},
     "output_type": "execute_result"
    }
   ],
   "source": [
    "y_test_df['unique_id'].nunique()"
   ]
  },
  {
   "cell_type": "code",
   "execution_count": 25,
   "metadata": {},
   "outputs": [
    {
     "data": {
      "text/plain": [
       "4641"
      ]
     },
     "execution_count": 25,
     "metadata": {},
     "output_type": "execute_result"
    }
   ],
   "source": [
    "preds_test_df['unique_id'].nunique()"
   ]
  },
  {
   "cell_type": "code",
   "execution_count": 20,
   "metadata": {},
   "outputs": [
    {
     "ename": "ValueError",
     "evalue": "Length of values does not match length of index",
     "output_type": "error",
     "traceback": [
      "\u001b[0;31m---------------------------------------------------------------------------\u001b[0m",
      "\u001b[0;31mValueError\u001b[0m                                Traceback (most recent call last)",
      "\u001b[0;32m<ipython-input-20-ccb3b4d70d6b>\u001b[0m in \u001b[0;36m<module>\u001b[0;34m\u001b[0m\n\u001b[0;32m----> 1\u001b[0;31m \u001b[0my_hat_fforma\u001b[0m \u001b[0;34m=\u001b[0m \u001b[0mfforma\u001b[0m\u001b[0;34m.\u001b[0m\u001b[0mpredict\u001b[0m\u001b[0;34m(\u001b[0m\u001b[0mX_test_df\u001b[0m\u001b[0;34m,\u001b[0m \u001b[0mpreds_test_df\u001b[0m\u001b[0;34m,\u001b[0m \u001b[0my_test_df\u001b[0m\u001b[0;34m)\u001b[0m\u001b[0;34m\u001b[0m\u001b[0;34m\u001b[0m\u001b[0m\n\u001b[0m",
      "\u001b[0;32m~/CMU/research/fforma_fed/fforma/fforma.py\u001b[0m in \u001b[0;36mpredict\u001b[0;34m(self, X_test_df, preds_test_df, y_df)\u001b[0m\n\u001b[1;32m     93\u001b[0m         \u001b[0my_df\u001b[0m \u001b[0;34m=\u001b[0m \u001b[0my_df\u001b[0m\u001b[0;34m.\u001b[0m\u001b[0msort_values\u001b[0m\u001b[0;34m(\u001b[0m\u001b[0;34m[\u001b[0m\u001b[0;34m'unique_id'\u001b[0m\u001b[0;34m,\u001b[0m\u001b[0;34m'ds'\u001b[0m\u001b[0;34m]\u001b[0m\u001b[0;34m)\u001b[0m\u001b[0;34m.\u001b[0m\u001b[0mreset_index\u001b[0m\u001b[0;34m(\u001b[0m\u001b[0mdrop\u001b[0m\u001b[0;34m=\u001b[0m\u001b[0;32mTrue\u001b[0m\u001b[0;34m)\u001b[0m\u001b[0;34m\u001b[0m\u001b[0;34m\u001b[0m\u001b[0m\n\u001b[1;32m     94\u001b[0m \u001b[0;34m\u001b[0m\u001b[0m\n\u001b[0;32m---> 95\u001b[0;31m         \u001b[0my_df\u001b[0m\u001b[0;34m[\u001b[0m\u001b[0;34m'y_hat'\u001b[0m\u001b[0;34m]\u001b[0m \u001b[0;34m=\u001b[0m \u001b[0mself\u001b[0m\u001b[0;34m.\u001b[0m\u001b[0mmeta_learner\u001b[0m\u001b[0;34m.\u001b[0m\u001b[0mpredict\u001b[0m\u001b[0;34m(\u001b[0m\u001b[0mX_test_df\u001b[0m\u001b[0;34m,\u001b[0m \u001b[0mpreds_test_df\u001b[0m\u001b[0;34m)\u001b[0m\u001b[0;34m\u001b[0m\u001b[0;34m\u001b[0m\u001b[0m\n\u001b[0m\u001b[1;32m     96\u001b[0m \u001b[0;34m\u001b[0m\u001b[0m\n\u001b[1;32m     97\u001b[0m         \u001b[0;32mreturn\u001b[0m \u001b[0my_df\u001b[0m\u001b[0;34m\u001b[0m\u001b[0;34m\u001b[0m\u001b[0m\n",
      "\u001b[0;32m~/anaconda3/envs/fforma_fed/lib/python3.6/site-packages/pandas/core/frame.py\u001b[0m in \u001b[0;36m__setitem__\u001b[0;34m(self, key, value)\u001b[0m\n\u001b[1;32m   2936\u001b[0m         \u001b[0;32melse\u001b[0m\u001b[0;34m:\u001b[0m\u001b[0;34m\u001b[0m\u001b[0;34m\u001b[0m\u001b[0m\n\u001b[1;32m   2937\u001b[0m             \u001b[0;31m# set column\u001b[0m\u001b[0;34m\u001b[0m\u001b[0;34m\u001b[0m\u001b[0;34m\u001b[0m\u001b[0m\n\u001b[0;32m-> 2938\u001b[0;31m             \u001b[0mself\u001b[0m\u001b[0;34m.\u001b[0m\u001b[0m_set_item\u001b[0m\u001b[0;34m(\u001b[0m\u001b[0mkey\u001b[0m\u001b[0;34m,\u001b[0m \u001b[0mvalue\u001b[0m\u001b[0;34m)\u001b[0m\u001b[0;34m\u001b[0m\u001b[0;34m\u001b[0m\u001b[0m\n\u001b[0m\u001b[1;32m   2939\u001b[0m \u001b[0;34m\u001b[0m\u001b[0m\n\u001b[1;32m   2940\u001b[0m     \u001b[0;32mdef\u001b[0m \u001b[0m_setitem_slice\u001b[0m\u001b[0;34m(\u001b[0m\u001b[0mself\u001b[0m\u001b[0;34m,\u001b[0m \u001b[0mkey\u001b[0m\u001b[0;34m,\u001b[0m \u001b[0mvalue\u001b[0m\u001b[0;34m)\u001b[0m\u001b[0;34m:\u001b[0m\u001b[0;34m\u001b[0m\u001b[0;34m\u001b[0m\u001b[0m\n",
      "\u001b[0;32m~/anaconda3/envs/fforma_fed/lib/python3.6/site-packages/pandas/core/frame.py\u001b[0m in \u001b[0;36m_set_item\u001b[0;34m(self, key, value)\u001b[0m\n\u001b[1;32m   2998\u001b[0m \u001b[0;34m\u001b[0m\u001b[0m\n\u001b[1;32m   2999\u001b[0m         \u001b[0mself\u001b[0m\u001b[0;34m.\u001b[0m\u001b[0m_ensure_valid_index\u001b[0m\u001b[0;34m(\u001b[0m\u001b[0mvalue\u001b[0m\u001b[0;34m)\u001b[0m\u001b[0;34m\u001b[0m\u001b[0;34m\u001b[0m\u001b[0m\n\u001b[0;32m-> 3000\u001b[0;31m         \u001b[0mvalue\u001b[0m \u001b[0;34m=\u001b[0m \u001b[0mself\u001b[0m\u001b[0;34m.\u001b[0m\u001b[0m_sanitize_column\u001b[0m\u001b[0;34m(\u001b[0m\u001b[0mkey\u001b[0m\u001b[0;34m,\u001b[0m \u001b[0mvalue\u001b[0m\u001b[0;34m)\u001b[0m\u001b[0;34m\u001b[0m\u001b[0;34m\u001b[0m\u001b[0m\n\u001b[0m\u001b[1;32m   3001\u001b[0m         \u001b[0mNDFrame\u001b[0m\u001b[0;34m.\u001b[0m\u001b[0m_set_item\u001b[0m\u001b[0;34m(\u001b[0m\u001b[0mself\u001b[0m\u001b[0;34m,\u001b[0m \u001b[0mkey\u001b[0m\u001b[0;34m,\u001b[0m \u001b[0mvalue\u001b[0m\u001b[0;34m)\u001b[0m\u001b[0;34m\u001b[0m\u001b[0;34m\u001b[0m\u001b[0m\n\u001b[1;32m   3002\u001b[0m \u001b[0;34m\u001b[0m\u001b[0m\n",
      "\u001b[0;32m~/anaconda3/envs/fforma_fed/lib/python3.6/site-packages/pandas/core/frame.py\u001b[0m in \u001b[0;36m_sanitize_column\u001b[0;34m(self, key, value, broadcast)\u001b[0m\n\u001b[1;32m   3634\u001b[0m \u001b[0;34m\u001b[0m\u001b[0m\n\u001b[1;32m   3635\u001b[0m             \u001b[0;31m# turn me into an ndarray\u001b[0m\u001b[0;34m\u001b[0m\u001b[0;34m\u001b[0m\u001b[0;34m\u001b[0m\u001b[0m\n\u001b[0;32m-> 3636\u001b[0;31m             \u001b[0mvalue\u001b[0m \u001b[0;34m=\u001b[0m \u001b[0msanitize_index\u001b[0m\u001b[0;34m(\u001b[0m\u001b[0mvalue\u001b[0m\u001b[0;34m,\u001b[0m \u001b[0mself\u001b[0m\u001b[0;34m.\u001b[0m\u001b[0mindex\u001b[0m\u001b[0;34m,\u001b[0m \u001b[0mcopy\u001b[0m\u001b[0;34m=\u001b[0m\u001b[0;32mFalse\u001b[0m\u001b[0;34m)\u001b[0m\u001b[0;34m\u001b[0m\u001b[0;34m\u001b[0m\u001b[0m\n\u001b[0m\u001b[1;32m   3637\u001b[0m             \u001b[0;32mif\u001b[0m \u001b[0;32mnot\u001b[0m \u001b[0misinstance\u001b[0m\u001b[0;34m(\u001b[0m\u001b[0mvalue\u001b[0m\u001b[0;34m,\u001b[0m \u001b[0;34m(\u001b[0m\u001b[0mnp\u001b[0m\u001b[0;34m.\u001b[0m\u001b[0mndarray\u001b[0m\u001b[0;34m,\u001b[0m \u001b[0mIndex\u001b[0m\u001b[0;34m)\u001b[0m\u001b[0;34m)\u001b[0m\u001b[0;34m:\u001b[0m\u001b[0;34m\u001b[0m\u001b[0;34m\u001b[0m\u001b[0m\n\u001b[1;32m   3638\u001b[0m                 \u001b[0;32mif\u001b[0m \u001b[0misinstance\u001b[0m\u001b[0;34m(\u001b[0m\u001b[0mvalue\u001b[0m\u001b[0;34m,\u001b[0m \u001b[0mlist\u001b[0m\u001b[0;34m)\u001b[0m \u001b[0;32mand\u001b[0m \u001b[0mlen\u001b[0m\u001b[0;34m(\u001b[0m\u001b[0mvalue\u001b[0m\u001b[0;34m)\u001b[0m \u001b[0;34m>\u001b[0m \u001b[0;36m0\u001b[0m\u001b[0;34m:\u001b[0m\u001b[0;34m\u001b[0m\u001b[0;34m\u001b[0m\u001b[0m\n",
      "\u001b[0;32m~/anaconda3/envs/fforma_fed/lib/python3.6/site-packages/pandas/core/internals/construction.py\u001b[0m in \u001b[0;36msanitize_index\u001b[0;34m(data, index, copy)\u001b[0m\n\u001b[1;32m    609\u001b[0m \u001b[0;34m\u001b[0m\u001b[0m\n\u001b[1;32m    610\u001b[0m     \u001b[0;32mif\u001b[0m \u001b[0mlen\u001b[0m\u001b[0;34m(\u001b[0m\u001b[0mdata\u001b[0m\u001b[0;34m)\u001b[0m \u001b[0;34m!=\u001b[0m \u001b[0mlen\u001b[0m\u001b[0;34m(\u001b[0m\u001b[0mindex\u001b[0m\u001b[0;34m)\u001b[0m\u001b[0;34m:\u001b[0m\u001b[0;34m\u001b[0m\u001b[0;34m\u001b[0m\u001b[0m\n\u001b[0;32m--> 611\u001b[0;31m         \u001b[0;32mraise\u001b[0m \u001b[0mValueError\u001b[0m\u001b[0;34m(\u001b[0m\u001b[0;34m\"Length of values does not match length of index\"\u001b[0m\u001b[0;34m)\u001b[0m\u001b[0;34m\u001b[0m\u001b[0;34m\u001b[0m\u001b[0m\n\u001b[0m\u001b[1;32m    612\u001b[0m \u001b[0;34m\u001b[0m\u001b[0m\n\u001b[1;32m    613\u001b[0m     \u001b[0;32mif\u001b[0m \u001b[0misinstance\u001b[0m\u001b[0;34m(\u001b[0m\u001b[0mdata\u001b[0m\u001b[0;34m,\u001b[0m \u001b[0mABCIndexClass\u001b[0m\u001b[0;34m)\u001b[0m \u001b[0;32mand\u001b[0m \u001b[0;32mnot\u001b[0m \u001b[0mcopy\u001b[0m\u001b[0;34m:\u001b[0m\u001b[0;34m\u001b[0m\u001b[0;34m\u001b[0m\u001b[0m\n",
      "\u001b[0;31mValueError\u001b[0m: Length of values does not match length of index"
     ]
    }
   ],
   "source": [
    "y_hat_fforma = fforma.predict(X_test_df, preds_test_df, y_test_df)"
   ]
  },
  {
   "cell_type": "code",
   "execution_count": null,
   "metadata": {},
   "outputs": [],
   "source": []
  },
  {
   "cell_type": "code",
   "execution_count": null,
   "metadata": {},
   "outputs": [],
   "source": []
  },
  {
   "cell_type": "code",
   "execution_count": null,
   "metadata": {},
   "outputs": [],
   "source": [
    "# Plot\n",
    "def plot_prediction(y, y_hat,ax):\n",
    "    n_y = len(y)\n",
    "    n_yhat = len(y_hat)\n",
    "    ds_y = np.array(range(n_y))\n",
    "    ds_yhat = np.array(range(n_y-n_yhat, n_y))\n",
    "\n",
    "    ax.plot(ds_y, y, label = 'y')\n",
    "    ax.plot(ds_yhat, y_hat, label='y_hat')\n",
    "    \n",
    "def plot_grid(x,n_row,n_col):\n",
    "    n_graph = len(x)\n",
    "    fig, axs = plt.subplots(n_row, n_col, figsize=(5*n_col, 3*n_row))\n",
    "    plt.xticks(rotation=45)\n",
    "    \n",
    "    for i in range(n_graph):\n",
    "        row = int(np.floor(i/n_col))\n",
    "        col = i % n_col\n",
    "        plot_prediction(y=x[i][0],y_hat=x[i][1], ax=axs[row, col])\n",
    "        flag=1\n",
    "    plt.show()"
   ]
  },
  {
   "cell_type": "code",
   "execution_count": null,
   "metadata": {},
   "outputs": [],
   "source": [
    "(y_hat['y']-y_hat['y_hat']).mean() #-151 -0.86 -0.57 -102 -81"
   ]
  },
  {
   "cell_type": "code",
   "execution_count": null,
   "metadata": {},
   "outputs": [],
   "source": [
    "ids = y_hat['unique_id'].unique()\n",
    "plots = []\n",
    "for i in range(40):\n",
    "    plot_id = ids[i]\n",
    "    plot_df = y_hat[y_hat['unique_id']==plot_id]\n",
    "    y_train = y_train_df[y_train_df['unique_id']==plot_id]\n",
    "    y = np.concatenate([y_train['y'],plot_df['y']])\n",
    "    plots.append((y, plot_df['y_hat']))\n",
    "\n",
    "plot_grid(plots,10,4)"
   ]
  },
  {
   "cell_type": "code",
   "execution_count": null,
   "metadata": {},
   "outputs": [],
   "source": []
  },
  {
   "cell_type": "code",
   "execution_count": null,
   "metadata": {},
   "outputs": [],
   "source": []
  },
  {
   "cell_type": "code",
   "execution_count": null,
   "metadata": {},
   "outputs": [],
   "source": []
  },
  {
   "cell_type": "code",
   "execution_count": null,
   "metadata": {},
   "outputs": [],
   "source": []
  }
 ],
 "metadata": {
  "kernelspec": {
   "display_name": "Python 3",
   "language": "python",
   "name": "python3"
  },
  "language_info": {
   "codemirror_mode": {
    "name": "ipython",
    "version": 3
   },
   "file_extension": ".py",
   "mimetype": "text/x-python",
   "name": "python",
   "nbconvert_exporter": "python",
   "pygments_lexer": "ipython3",
   "version": "3.6.10"
  }
 },
 "nbformat": 4,
 "nbformat_minor": 4
}
