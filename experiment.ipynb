{
 "cells": [
  {
   "cell_type": "code",
   "execution_count": 18,
   "metadata": {},
   "outputs": [],
   "source": [
    "from fforma.metrics import WeightedPinballLoss\n",
    "from fforma.meta_learner import MetaLearnerNN\n",
    "from fforma.meta_results_r_data import prepare_fforma_data\n",
    "\n",
    "from ESRNN.m4_data import prepare_m4_data, seas_dict\n",
    "from ESRNN.utils_evaluation import evaluate_prediction_owa\n",
    "\n",
    "import pandas as pd"
   ]
  },
  {
   "cell_type": "markdown",
   "metadata": {},
   "source": [
    "## Meta results from R (hyndman, et al)"
   ]
  },
  {
   "cell_type": "code",
   "execution_count": 10,
   "metadata": {},
   "outputs": [
    {
     "name": "stdout",
     "output_type": "stream",
     "text": [
      "Successfully decompressed  data/hyndman_data/raw/decompressed_data\n"
     ]
    }
   ],
   "source": [
    "feats_train, X_models_train, y_models_train, feats_test, X_models_test = prepare_fforma_data('data/hyndman_data', dataset_name='Hourly') #dataset_name=None for all data"
   ]
  },
  {
   "cell_type": "markdown",
   "metadata": {},
   "source": [
    "## QFFORMA"
   ]
  },
  {
   "cell_type": "code",
   "execution_count": 11,
   "metadata": {},
   "outputs": [],
   "source": [
    "nn_params = {'layers': [200, 100, 50, 25, 10], \n",
    "             'dropout': 0.1, \n",
    "             'epochs': 300, \n",
    "             'batch_size': 2,\n",
    "             'learning_rate': 0.001, \n",
    "             'gradient_eps': 1e-8, \n",
    "             'weight_decay': 0,\n",
    "             'freq_of_test': 10,\n",
    "             'loss_function': WeightedPinballLoss(0.4)}"
   ]
  },
  {
   "cell_type": "code",
   "execution_count": 12,
   "metadata": {},
   "outputs": [],
   "source": [
    "model = MetaLearnerNN(nn_params, X_models_train.set_index(['unique_id', 'ds']), y_models_train, 48)"
   ]
  },
  {
   "cell_type": "code",
   "execution_count": 13,
   "metadata": {},
   "outputs": [
    {
     "name": "stdout",
     "output_type": "stream",
     "text": [
      "Testing loss: 0.57380\n",
      "Testing loss: 0.08275\n",
      "Testing loss: 0.06967\n",
      "Testing loss: 0.06579\n",
      "Testing loss: 0.05301\n",
      "Testing loss: 0.06039\n",
      "Testing loss: 0.05439\n",
      "Testing loss: 0.06092\n",
      "Testing loss: 0.05912\n",
      "Testing loss: 0.05623\n",
      "Testing loss: 0.05547\n",
      "Testing loss: 0.05548\n",
      "Testing loss: 0.06057\n",
      "Testing loss: 0.05917\n",
      "Testing loss: 0.05628\n",
      "Testing loss: 0.05516\n",
      "Testing loss: 0.06284\n",
      "Testing loss: 0.05344\n",
      "Testing loss: 0.06040\n",
      "Testing loss: 0.05278\n",
      "Testing loss: 0.06279\n",
      "Testing loss: 0.06008\n",
      "Testing loss: 0.05791\n",
      "Testing loss: 0.05339\n",
      "Testing loss: 0.05419\n",
      "Testing loss: 0.05936\n",
      "Testing loss: 0.05503\n",
      "Testing loss: 0.05730\n",
      "Testing loss: 0.05373\n",
      "Testing loss: 0.06077\n"
     ]
    },
    {
     "data": {
      "text/plain": [
       "<fforma.meta_learner.MetaLearnerNN at 0x7f9b7789ea20>"
      ]
     },
     "execution_count": 13,
     "metadata": {},
     "output_type": "execute_result"
    }
   ],
   "source": [
    "model.fit(feats_train.set_index(['unique_id']), verbose_eval=False)"
   ]
  },
  {
   "cell_type": "code",
   "execution_count": 16,
   "metadata": {},
   "outputs": [],
   "source": [
    "feats_test_id = feats_test.set_index('unique_id')\n",
    "X_models_test_id = X_models_test.set_index(['unique_id', 'ds'])"
   ]
  },
  {
   "cell_type": "code",
   "execution_count": 19,
   "metadata": {},
   "outputs": [],
   "source": [
    "fforma_predictions = model.predict(feats_test_id)\n",
    "fforma_predictions = pd.DataFrame(fforma_predictions, \n",
    "                                  index=feats_test_id.index, \n",
    "                                  columns=X_models_test_id.columns)"
   ]
  },
  {
   "cell_type": "code",
   "execution_count": 20,
   "metadata": {},
   "outputs": [],
   "source": [
    "preds = (fforma_predictions * X_models_test_id).sum(1)\n",
    "preds = preds.rename('y_hat').to_frame().reset_index()"
   ]
  },
  {
   "cell_type": "markdown",
   "metadata": {},
   "source": [
    "# Evaluation"
   ]
  },
  {
   "cell_type": "code",
   "execution_count": 25,
   "metadata": {},
   "outputs": [],
   "source": [
    "#Freqs used by hyndman\n",
    "freqs = {'Hourly': 24, 'Daily': 1,\n",
    "         'Monthly': 12, 'Quarterly': 4,\n",
    "         'Weekly':1, 'Yearly': 1}"
   ]
  },
  {
   "cell_type": "code",
   "execution_count": 26,
   "metadata": {},
   "outputs": [],
   "source": [
    "def evaluate_fforma(dataset_name, fforma_df, directory, num_obs):\n",
    "    _, y_train_df, X_test_df, y_test_df = prepare_m4_data(dataset_name=dataset_name,\n",
    "                                                          directory=directory,\n",
    "                                                          num_obs=num_obs)\n",
    "    \n",
    "    y_test_fforma = fforma_df[fforma_df['unique_id'].isin(y_test_df['unique_id'].unique())]\n",
    "    y_test_fforma = y_test_fforma.rename(columns={'fforma_prediction': 'y_hat'})\n",
    "    y_test_fforma = y_test_fforma.filter(items=['unique_id', 'ds', 'y_hat'])\n",
    "    \n",
    "    seasonality = freqs[dataset_name]\n",
    "    owa, mase, smape = evaluate_prediction_owa(y_test_fforma, y_train_df, X_test_df, y_test_df, seasonality)\n",
    "    \n",
    "    return dataset_name, owa, mase, smape"
   ]
  },
  {
   "cell_type": "code",
   "execution_count": 27,
   "metadata": {},
   "outputs": [
    {
     "name": "stdout",
     "output_type": "stream",
     "text": [
      "\n",
      "\n",
      "===============  Model evaluation  ==============\n",
      "OWA: 0.608 \n",
      "SMAPE: 12.521 \n",
      "MASE: 1.28 \n"
     ]
    },
    {
     "data": {
      "text/plain": [
       "('Hourly', 0.6076973863099461, 1.279661366283869, 12.520547504707347)"
      ]
     },
     "execution_count": 27,
     "metadata": {},
     "output_type": "execute_result"
    }
   ],
   "source": [
    "evaluate_fforma('Hourly', preds, './data', 100_000)"
   ]
  }
 ],
 "metadata": {
  "kernelspec": {
   "display_name": "Python 3",
   "language": "python",
   "name": "python3"
  },
  "language_info": {
   "codemirror_mode": {
    "name": "ipython",
    "version": 3
   },
   "file_extension": ".py",
   "mimetype": "text/x-python",
   "name": "python",
   "nbconvert_exporter": "python",
   "pygments_lexer": "ipython3",
   "version": "3.7.3"
  }
 },
 "nbformat": 4,
 "nbformat_minor": 2
}
