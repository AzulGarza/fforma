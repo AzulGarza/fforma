{
 "cells": [
  {
   "cell_type": "code",
   "execution_count": 1,
   "metadata": {},
   "outputs": [],
   "source": [
    "from fforma.metrics import WeightedPinballLoss\n",
    "from fforma.meta_learner import MetaLearnerNN\n",
    "from fforma.meta_results_r_data import prepare_fforma_data"
   ]
  },
  {
   "cell_type": "markdown",
   "metadata": {},
   "source": [
    "## Meta results from R (hyndman, et al)"
   ]
  },
  {
   "cell_type": "code",
   "execution_count": 2,
   "metadata": {},
   "outputs": [
    {
     "name": "stdout",
     "output_type": "stream",
     "text": [
      "Successfully decompressed  data/hyndman_data/raw/decompressed_data\n"
     ]
    }
   ],
   "source": [
    "feats_train, X_models_train, y_models_train, feats_test, X_models_test = prepare_fforma_data('data/hyndman_data', dataset='Hourly') #dataset=None for all data"
   ]
  },
  {
   "cell_type": "markdown",
   "metadata": {},
   "source": [
    "## QFFORMA"
   ]
  },
  {
   "cell_type": "code",
   "execution_count": 182,
   "metadata": {},
   "outputs": [],
   "source": [
    "nn_params = {'layers': [200, 100, 50, 25, 10], \n",
    "             'dropout': 0.1, \n",
    "             'epochs': 300, \n",
    "             'batch_size': 2,\n",
    "             'learning_rate': 0.001, \n",
    "             'gradient_eps': 1e-8, \n",
    "             'weight_decay': 0,\n",
    "             'freq_of_test': 10,\n",
    "             'loss_function': WeightedPinballLoss(0.4)}"
   ]
  },
  {
   "cell_type": "code",
   "execution_count": 183,
   "metadata": {},
   "outputs": [],
   "source": [
    "model = MetaLearnerNN(nn_params, X_models_train.set_index(['unique_id', 'ds']), y_models_train, 48)"
   ]
  },
  {
   "cell_type": "code",
   "execution_count": 184,
   "metadata": {},
   "outputs": [
    {
     "name": "stdout",
     "output_type": "stream",
     "text": [
      "Testing loss: 0.85529\n",
      "Testing loss: 0.08053\n",
      "Testing loss: 0.08908\n",
      "Testing loss: 0.05553\n",
      "Testing loss: 0.07591\n",
      "Testing loss: 0.06328\n",
      "Testing loss: 0.06205\n",
      "Testing loss: 0.06503\n",
      "Testing loss: 0.06597\n",
      "Testing loss: 0.07121\n",
      "Testing loss: 0.06303\n",
      "Testing loss: 0.05687\n",
      "Testing loss: 0.06100\n",
      "Testing loss: 0.06145\n",
      "Testing loss: 0.05401\n",
      "Testing loss: 0.05458\n",
      "Testing loss: 0.06023\n",
      "Testing loss: 0.04922\n",
      "Testing loss: 0.05901\n",
      "Testing loss: 0.05460\n",
      "Testing loss: 0.05589\n",
      "Testing loss: 0.05755\n",
      "Testing loss: 0.06608\n",
      "Testing loss: 0.05629\n",
      "Testing loss: 0.06077\n",
      "Testing loss: 0.05947\n",
      "Testing loss: 0.05983\n",
      "Testing loss: 0.05564\n",
      "Testing loss: 0.05828\n",
      "Testing loss: 0.05358\n"
     ]
    },
    {
     "data": {
      "text/plain": [
       "<fforma.meta_learner.MetaLearnerNN at 0x7fad3396ccc0>"
      ]
     },
     "execution_count": 184,
     "metadata": {},
     "output_type": "execute_result"
    }
   ],
   "source": [
    "model.fit(feats_train.set_index(['unique_id']), verbose_eval=False)"
   ]
  },
  {
   "cell_type": "code",
   "execution_count": 185,
   "metadata": {},
   "outputs": [],
   "source": [
    "feats_test_id = feats_test.set_index('unique_id')\n",
    "X_models_test_id = X_models_test.set_index(['unique_id', 'ds'])"
   ]
  },
  {
   "cell_type": "code",
   "execution_count": 186,
   "metadata": {},
   "outputs": [],
   "source": [
    "fforma_predictions = model.predict(feats_test_id)\n",
    "fforma_predictions = pd.DataFrame(fforma_predictions, \n",
    "                                  index=feats_test_id.index, \n",
    "                                  columns=X_models_test_id.columns)"
   ]
  },
  {
   "cell_type": "code",
   "execution_count": 187,
   "metadata": {},
   "outputs": [],
   "source": [
    "preds = (fforma_predictions * X_models_test_id).sum(1)\n",
    "preds = preds.rename('y_hat').to_frame().reset_index()"
   ]
  }
 ],
 "metadata": {
  "kernelspec": {
   "display_name": "Python 3",
   "language": "python",
   "name": "python3"
  },
  "language_info": {
   "codemirror_mode": {
    "name": "ipython",
    "version": 3
   },
   "file_extension": ".py",
   "mimetype": "text/x-python",
   "name": "python",
   "nbconvert_exporter": "python",
   "pygments_lexer": "ipython3",
   "version": "3.7.3"
  }
 },
 "nbformat": 4,
 "nbformat_minor": 2
}
