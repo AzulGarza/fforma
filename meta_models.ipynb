{
 "cells": [
  {
   "cell_type": "code",
   "execution_count": 2,
   "metadata": {},
   "outputs": [
    {
     "name": "stdout",
     "output_type": "stream",
     "text": [
      "The autoreload extension is already loaded. To reload it, use:\n",
      "  %reload_ext autoreload\n"
     ]
    }
   ],
   "source": [
    "import numpy as np\n",
    "import pandas as pd\n",
    "from rpy2.robjects.packages import importr\n",
    "stats = importr('stats')\n",
    "\n",
    "from fforma.meta_model import MetaModels\n",
    "from fforma.base_models import Naive2\n",
    "from fforma.base_models_r import (\n",
    "    ARIMA, \n",
    "    ETS, \n",
    "    NNETAR,\n",
    "    TBATS,\n",
    "    STLM,\n",
    "    RandomWalk,\n",
    "    ThetaF, \n",
    "    Naive, \n",
    "    SeasonalNaive\n",
    ")"
   ]
  },
  {
   "cell_type": "code",
   "execution_count": 13,
   "metadata": {},
   "outputs": [],
   "source": [
    "u_id = np.array(['uid_1', 'uid_2', 'uid_3', 'uid_4'])\n",
    "\n",
    "horizons = np.array([1, 2, 3, 4])\n",
    "season = [1, 2, 1, 2]\n",
    "\n",
    "y = np.array([[1.1, 1.2, 1.3, 1.4, 1.5],\n",
    "              [2.1, 2.2, 2.3, 2.4, 2.5],\n",
    "              [3.1, 3.2, 3.3, 3.4, 3.5, 3.6, 3.7],\n",
    "              [4.1, 4.2, 4.3, 4.4, 4.5]])\n",
    "\n",
    "fforma_df = pd.DataFrame({'unique_id': u_id,\n",
    "                   'seasonality': season,\n",
    "                   'y': y})\n",
    "\n",
    "df_horizon = pd.DataFrame({'unique_id': u_id, 'horizon': horizons})"
   ]
  },
  {
   "cell_type": "code",
   "execution_count": 14,
   "metadata": {},
   "outputs": [
    {
     "data": {
      "text/html": [
       "<div>\n",
       "<style scoped>\n",
       "    .dataframe tbody tr th:only-of-type {\n",
       "        vertical-align: middle;\n",
       "    }\n",
       "\n",
       "    .dataframe tbody tr th {\n",
       "        vertical-align: top;\n",
       "    }\n",
       "\n",
       "    .dataframe thead th {\n",
       "        text-align: right;\n",
       "    }\n",
       "</style>\n",
       "<table border=\"1\" class=\"dataframe\">\n",
       "  <thead>\n",
       "    <tr style=\"text-align: right;\">\n",
       "      <th></th>\n",
       "      <th>unique_id</th>\n",
       "      <th>seasonality</th>\n",
       "      <th>y</th>\n",
       "    </tr>\n",
       "  </thead>\n",
       "  <tbody>\n",
       "    <tr>\n",
       "      <th>0</th>\n",
       "      <td>uid_1</td>\n",
       "      <td>1</td>\n",
       "      <td>[1.1, 1.2, 1.3, 1.4, 1.5]</td>\n",
       "    </tr>\n",
       "    <tr>\n",
       "      <th>1</th>\n",
       "      <td>uid_2</td>\n",
       "      <td>2</td>\n",
       "      <td>[2.1, 2.2, 2.3, 2.4, 2.5]</td>\n",
       "    </tr>\n",
       "    <tr>\n",
       "      <th>2</th>\n",
       "      <td>uid_3</td>\n",
       "      <td>1</td>\n",
       "      <td>[3.1, 3.2, 3.3, 3.4, 3.5, 3.6, 3.7]</td>\n",
       "    </tr>\n",
       "    <tr>\n",
       "      <th>3</th>\n",
       "      <td>uid_4</td>\n",
       "      <td>2</td>\n",
       "      <td>[4.1, 4.2, 4.3, 4.4, 4.5]</td>\n",
       "    </tr>\n",
       "  </tbody>\n",
       "</table>\n",
       "</div>"
      ],
      "text/plain": [
       "  unique_id  seasonality                                    y\n",
       "0     uid_1            1            [1.1, 1.2, 1.3, 1.4, 1.5]\n",
       "1     uid_2            2            [2.1, 2.2, 2.3, 2.4, 2.5]\n",
       "2     uid_3            1  [3.1, 3.2, 3.3, 3.4, 3.5, 3.6, 3.7]\n",
       "3     uid_4            2            [4.1, 4.2, 4.3, 4.4, 4.5]"
      ]
     },
     "execution_count": 14,
     "metadata": {},
     "output_type": "execute_result"
    }
   ],
   "source": [
    "fforma_df"
   ]
  },
  {
   "cell_type": "code",
   "execution_count": 15,
   "metadata": {},
   "outputs": [
    {
     "data": {
      "text/html": [
       "<div>\n",
       "<style scoped>\n",
       "    .dataframe tbody tr th:only-of-type {\n",
       "        vertical-align: middle;\n",
       "    }\n",
       "\n",
       "    .dataframe tbody tr th {\n",
       "        vertical-align: top;\n",
       "    }\n",
       "\n",
       "    .dataframe thead th {\n",
       "        text-align: right;\n",
       "    }\n",
       "</style>\n",
       "<table border=\"1\" class=\"dataframe\">\n",
       "  <thead>\n",
       "    <tr style=\"text-align: right;\">\n",
       "      <th></th>\n",
       "      <th>unique_id</th>\n",
       "      <th>horizon</th>\n",
       "    </tr>\n",
       "  </thead>\n",
       "  <tbody>\n",
       "    <tr>\n",
       "      <th>0</th>\n",
       "      <td>uid_1</td>\n",
       "      <td>1</td>\n",
       "    </tr>\n",
       "    <tr>\n",
       "      <th>1</th>\n",
       "      <td>uid_2</td>\n",
       "      <td>2</td>\n",
       "    </tr>\n",
       "    <tr>\n",
       "      <th>2</th>\n",
       "      <td>uid_3</td>\n",
       "      <td>3</td>\n",
       "    </tr>\n",
       "    <tr>\n",
       "      <th>3</th>\n",
       "      <td>uid_4</td>\n",
       "      <td>4</td>\n",
       "    </tr>\n",
       "  </tbody>\n",
       "</table>\n",
       "</div>"
      ],
      "text/plain": [
       "  unique_id  horizon\n",
       "0     uid_1        1\n",
       "1     uid_2        2\n",
       "2     uid_3        3\n",
       "3     uid_4        4"
      ]
     },
     "execution_count": 15,
     "metadata": {},
     "output_type": "execute_result"
    }
   ],
   "source": [
    "df_horizon"
   ]
  },
  {
   "cell_type": "code",
   "execution_count": 16,
   "metadata": {},
   "outputs": [],
   "source": [
    "meta_models = {\n",
    "     'ARIMA': lambda freq: ARIMA(freq, stepwise=False, approximation=False),\n",
    "     'ETS': ETS,\n",
    "     'NNETAR': NNETAR,\n",
    "     'TBATS': TBATS,\n",
    "     'STLM': lambda freq: ARIMA(freq, d=0, D=0) if freq == 1 else STLM(freq, modelfunction=stats.ar),\n",
    "     'RandomWalkDrift': lambda freq: RandomWalk(freq=freq, drift=True),\n",
    "     'ThetaF': ThetaF,\n",
    "     'Naive': Naive,\n",
    "     'SeasonalNaive': SeasonalNaive,\n",
    "     'Naive2': Naive2,\n",
    "}"
   ]
  },
  {
   "cell_type": "code",
   "execution_count": 18,
   "metadata": {},
   "outputs": [
    {
     "name": "stdout",
     "output_type": "stream",
     "text": [
      "[########################################] | 100% Completed | 14.8s\n"
     ]
    }
   ],
   "source": [
    "model = MetaModels(meta_models).fit(fforma_df)"
   ]
  },
  {
   "cell_type": "code",
   "execution_count": 19,
   "metadata": {},
   "outputs": [
    {
     "name": "stdout",
     "output_type": "stream",
     "text": [
      "[########################################] | 100% Completed | 14.1s\n"
     ]
    }
   ],
   "source": [
    "df = model.predict(df_horizon)"
   ]
  },
  {
   "cell_type": "code",
   "execution_count": 20,
   "metadata": {},
   "outputs": [
    {
     "data": {
      "text/html": [
       "<div>\n",
       "<style scoped>\n",
       "    .dataframe tbody tr th:only-of-type {\n",
       "        vertical-align: middle;\n",
       "    }\n",
       "\n",
       "    .dataframe tbody tr th {\n",
       "        vertical-align: top;\n",
       "    }\n",
       "\n",
       "    .dataframe thead th {\n",
       "        text-align: right;\n",
       "    }\n",
       "</style>\n",
       "<table border=\"1\" class=\"dataframe\">\n",
       "  <thead>\n",
       "    <tr style=\"text-align: right;\">\n",
       "      <th></th>\n",
       "      <th>unique_id</th>\n",
       "      <th>ARIMA</th>\n",
       "      <th>ETS</th>\n",
       "      <th>NNETAR</th>\n",
       "      <th>Naive</th>\n",
       "      <th>Naive2</th>\n",
       "      <th>RandomWalkDrift</th>\n",
       "      <th>STLM</th>\n",
       "      <th>SeasonalNaive</th>\n",
       "      <th>TBATS</th>\n",
       "      <th>ThetaF</th>\n",
       "    </tr>\n",
       "  </thead>\n",
       "  <tbody>\n",
       "    <tr>\n",
       "      <th>0</th>\n",
       "      <td>uid_1</td>\n",
       "      <td>[1.5999999999999999]</td>\n",
       "      <td>[1.5999999999999999]</td>\n",
       "      <td>[1.5737559736074875]</td>\n",
       "      <td>[1.6]</td>\n",
       "      <td>[1.2999999999981156]</td>\n",
       "      <td>[1.6]</td>\n",
       "      <td>[1.55]</td>\n",
       "      <td>[1.5]</td>\n",
       "      <td>[1.5]</td>\n",
       "      <td>[1.5]</td>\n",
       "    </tr>\n",
       "    <tr>\n",
       "      <th>1</th>\n",
       "      <td>uid_2</td>\n",
       "      <td>[2.5999999999999996, 2.6999999999999997]</td>\n",
       "      <td>[2.6, 2.7]</td>\n",
       "      <td>[2.551944255553706, 2.5704350620020544]</td>\n",
       "      <td>[2.599999999999999, 2.6999999999999993]</td>\n",
       "      <td>[2.299996952974814, 2.300004858155279]</td>\n",
       "      <td>[2.6, 2.7]</td>\n",
       "      <td>[2.5500000000000003, 2.6]</td>\n",
       "      <td>[2.5, 2.5]</td>\n",
       "      <td>[2.4, 2.5]</td>\n",
       "      <td>[2.5, 2.5]</td>\n",
       "    </tr>\n",
       "    <tr>\n",
       "      <th>2</th>\n",
       "      <td>uid_3</td>\n",
       "      <td>[3.8000000000000003, 3.9000000000000004, 4.0]</td>\n",
       "      <td>[3.8000000000000003, 3.9000000000000004, 4.0]</td>\n",
       "      <td>[3.7789764043217793, 3.8341625143064406, 3.867...</td>\n",
       "      <td>[3.7999999999999994, 3.899999999999999, 3.9999...</td>\n",
       "      <td>[3.6787678027398534, 3.659038292814686, 3.6407...</td>\n",
       "      <td>[3.8000000000000003, 3.9000000000000004, 4.0]</td>\n",
       "      <td>[3.749994998453236, 3.799994998453236, 3.84999...</td>\n",
       "      <td>[3.7, 3.7, 3.7]</td>\n",
       "      <td>[3.7, 3.7, 3.7]</td>\n",
       "      <td>[3.7, 3.7, 3.7]</td>\n",
       "    </tr>\n",
       "    <tr>\n",
       "      <th>3</th>\n",
       "      <td>uid_4</td>\n",
       "      <td>[4.6, 4.7, 4.800000000000001, 4.9]</td>\n",
       "      <td>[4.6000000000000005, 4.700000000000001, 4.8000...</td>\n",
       "      <td>[4.550312816053603, 4.566934455229994, 4.57150...</td>\n",
       "      <td>[4.600000000000001, 4.700000000000002, 4.80000...</td>\n",
       "      <td>[4.299996952974814, 4.30000485815528, 4.299996...</td>\n",
       "      <td>[4.6, 4.7, 4.800000000000001, 4.9]</td>\n",
       "      <td>[4.55, 4.6000000000000005, 4.65, 4.70000000000...</td>\n",
       "      <td>[4.5, 4.5, 4.5, 4.5]</td>\n",
       "      <td>[4.4, 4.5, 4.4, 4.5]</td>\n",
       "      <td>[4.5, 4.5, 4.5, 4.5]</td>\n",
       "    </tr>\n",
       "  </tbody>\n",
       "</table>\n",
       "</div>"
      ],
      "text/plain": [
       "  unique_id                                          ARIMA  \\\n",
       "0     uid_1                           [1.5999999999999999]   \n",
       "1     uid_2       [2.5999999999999996, 2.6999999999999997]   \n",
       "2     uid_3  [3.8000000000000003, 3.9000000000000004, 4.0]   \n",
       "3     uid_4             [4.6, 4.7, 4.800000000000001, 4.9]   \n",
       "\n",
       "                                                 ETS  \\\n",
       "0                               [1.5999999999999999]   \n",
       "1                                         [2.6, 2.7]   \n",
       "2      [3.8000000000000003, 3.9000000000000004, 4.0]   \n",
       "3  [4.6000000000000005, 4.700000000000001, 4.8000...   \n",
       "\n",
       "                                              NNETAR  \\\n",
       "0                               [1.5737559736074875]   \n",
       "1            [2.551944255553706, 2.5704350620020544]   \n",
       "2  [3.7789764043217793, 3.8341625143064406, 3.867...   \n",
       "3  [4.550312816053603, 4.566934455229994, 4.57150...   \n",
       "\n",
       "                                               Naive  \\\n",
       "0                                              [1.6]   \n",
       "1            [2.599999999999999, 2.6999999999999993]   \n",
       "2  [3.7999999999999994, 3.899999999999999, 3.9999...   \n",
       "3  [4.600000000000001, 4.700000000000002, 4.80000...   \n",
       "\n",
       "                                              Naive2  \\\n",
       "0                               [1.2999999999981156]   \n",
       "1             [2.299996952974814, 2.300004858155279]   \n",
       "2  [3.6787678027398534, 3.659038292814686, 3.6407...   \n",
       "3  [4.299996952974814, 4.30000485815528, 4.299996...   \n",
       "\n",
       "                                 RandomWalkDrift  \\\n",
       "0                                          [1.6]   \n",
       "1                                     [2.6, 2.7]   \n",
       "2  [3.8000000000000003, 3.9000000000000004, 4.0]   \n",
       "3             [4.6, 4.7, 4.800000000000001, 4.9]   \n",
       "\n",
       "                                                STLM         SeasonalNaive  \\\n",
       "0                                             [1.55]                 [1.5]   \n",
       "1                          [2.5500000000000003, 2.6]            [2.5, 2.5]   \n",
       "2  [3.749994998453236, 3.799994998453236, 3.84999...       [3.7, 3.7, 3.7]   \n",
       "3  [4.55, 4.6000000000000005, 4.65, 4.70000000000...  [4.5, 4.5, 4.5, 4.5]   \n",
       "\n",
       "                  TBATS                ThetaF  \n",
       "0                 [1.5]                 [1.5]  \n",
       "1            [2.4, 2.5]            [2.5, 2.5]  \n",
       "2       [3.7, 3.7, 3.7]       [3.7, 3.7, 3.7]  \n",
       "3  [4.4, 4.5, 4.4, 4.5]  [4.5, 4.5, 4.5, 4.5]  "
      ]
     },
     "execution_count": 20,
     "metadata": {},
     "output_type": "execute_result"
    }
   ],
   "source": [
    "df"
   ]
  },
  {
   "cell_type": "code",
   "execution_count": null,
   "metadata": {},
   "outputs": [],
   "source": []
  }
 ],
 "metadata": {
  "kernelspec": {
   "display_name": "Python 3",
   "language": "python",
   "name": "python3"
  },
  "language_info": {
   "codemirror_mode": {
    "name": "ipython",
    "version": 3
   },
   "file_extension": ".py",
   "mimetype": "text/x-python",
   "name": "python",
   "nbconvert_exporter": "python",
   "pygments_lexer": "ipython3",
   "version": "3.7.3"
  }
 },
 "nbformat": 4,
 "nbformat_minor": 2
}
